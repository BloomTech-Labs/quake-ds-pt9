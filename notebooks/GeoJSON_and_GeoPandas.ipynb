{
  "cells": [
    {
      "cell_type": "markdown",
      "metadata": {
        "id": "2zcPgdRJMWaa",
        "colab_type": "text"
      },
      "source": [
        "# CSV and mapping exploration"
      ]
    },
    {
      "cell_type": "code",
      "metadata": {
        "id": "ep8epi5nk6de",
        "colab_type": "code",
        "outputId": "5c3e2e9d-3509-4c5f-96e8-8ade839001b2",
        "colab": {
          "base_uri": "https://localhost:8080/",
          "height": 230
        }
      },
      "source": [
        "pip install quakefeeds"
      ],
      "execution_count": 0,
      "outputs": [
        {
          "output_type": "stream",
          "text": [
            "Collecting quakefeeds\n",
            "  Downloading https://files.pythonhosted.org/packages/9c/49/9d7199c49e16280b10a33e0c142fc0085f7ed2b172e29cec57d580ee4289/quakefeeds-0.2-py3-none-any.whl\n",
            "Requirement already satisfied: Requests in /usr/local/lib/python3.6/dist-packages (from quakefeeds) (2.23.0)\n",
            "Requirement already satisfied: docopt in /usr/local/lib/python3.6/dist-packages (from quakefeeds) (0.6.2)\n",
            "Requirement already satisfied: Jinja2 in /usr/local/lib/python3.6/dist-packages (from quakefeeds) (2.11.2)\n",
            "Requirement already satisfied: urllib3!=1.25.0,!=1.25.1,<1.26,>=1.21.1 in /usr/local/lib/python3.6/dist-packages (from Requests->quakefeeds) (1.24.3)\n",
            "Requirement already satisfied: chardet<4,>=3.0.2 in /usr/local/lib/python3.6/dist-packages (from Requests->quakefeeds) (3.0.4)\n",
            "Requirement already satisfied: idna<3,>=2.5 in /usr/local/lib/python3.6/dist-packages (from Requests->quakefeeds) (2.9)\n",
            "Requirement already satisfied: certifi>=2017.4.17 in /usr/local/lib/python3.6/dist-packages (from Requests->quakefeeds) (2020.4.5.1)\n",
            "Requirement already satisfied: MarkupSafe>=0.23 in /usr/local/lib/python3.6/dist-packages (from Jinja2->quakefeeds) (1.1.1)\n",
            "Installing collected packages: quakefeeds\n",
            "Successfully installed quakefeeds-0.2\n"
          ],
          "name": "stdout"
        }
      ]
    },
    {
      "cell_type": "code",
      "metadata": {
        "id": "bWEXOmYOtfED",
        "colab_type": "code",
        "outputId": "0c6b9f74-f0b0-49d9-de08-b3718a9bd470",
        "colab": {
          "base_uri": "https://localhost:8080/",
          "height": 461
        }
      },
      "source": [
        "pip install geopandas"
      ],
      "execution_count": 0,
      "outputs": [
        {
          "output_type": "stream",
          "text": [
            "Collecting geopandas\n",
            "\u001b[?25l  Downloading https://files.pythonhosted.org/packages/83/c5/3cf9cdc39a6f2552922f79915f36b45a95b71fd343cfc51170a5b6ddb6e8/geopandas-0.7.0-py2.py3-none-any.whl (928kB)\n",
            "\u001b[K     |████████████████████████████████| 931kB 9.5MB/s \n",
            "\u001b[?25hCollecting fiona\n",
            "\u001b[?25l  Downloading https://files.pythonhosted.org/packages/ec/20/4e63bc5c6e62df889297b382c3ccd4a7a488b00946aaaf81a118158c6f09/Fiona-1.8.13.post1-cp36-cp36m-manylinux1_x86_64.whl (14.7MB)\n",
            "\u001b[K     |████████████████████████████████| 14.7MB 241kB/s \n",
            "\u001b[?25hRequirement already satisfied: shapely in /usr/local/lib/python3.6/dist-packages (from geopandas) (1.7.0)\n",
            "Collecting pyproj>=2.2.0\n",
            "\u001b[?25l  Downloading https://files.pythonhosted.org/packages/e5/c3/071e080230ac4b6c64f1a2e2f9161c9737a2bc7b683d2c90b024825000c0/pyproj-2.6.1.post1-cp36-cp36m-manylinux2010_x86_64.whl (10.9MB)\n",
            "\u001b[K     |████████████████████████████████| 10.9MB 40.2MB/s \n",
            "\u001b[?25hRequirement already satisfied: pandas>=0.23.0 in /usr/local/lib/python3.6/dist-packages (from geopandas) (1.0.3)\n",
            "Requirement already satisfied: six>=1.7 in /usr/local/lib/python3.6/dist-packages (from fiona->geopandas) (1.12.0)\n",
            "Collecting click-plugins>=1.0\n",
            "  Downloading https://files.pythonhosted.org/packages/e9/da/824b92d9942f4e472702488857914bdd50f73021efea15b4cad9aca8ecef/click_plugins-1.1.1-py2.py3-none-any.whl\n",
            "Requirement already satisfied: attrs>=17 in /usr/local/lib/python3.6/dist-packages (from fiona->geopandas) (19.3.0)\n",
            "Collecting munch\n",
            "  Downloading https://files.pythonhosted.org/packages/cc/ab/85d8da5c9a45e072301beb37ad7f833cd344e04c817d97e0cc75681d248f/munch-2.5.0-py2.py3-none-any.whl\n",
            "Collecting cligj>=0.5\n",
            "  Downloading https://files.pythonhosted.org/packages/e4/be/30a58b4b0733850280d01f8bd132591b4668ed5c7046761098d665ac2174/cligj-0.5.0-py3-none-any.whl\n",
            "Requirement already satisfied: click<8,>=4.0 in /usr/local/lib/python3.6/dist-packages (from fiona->geopandas) (7.1.2)\n",
            "Requirement already satisfied: python-dateutil>=2.6.1 in /usr/local/lib/python3.6/dist-packages (from pandas>=0.23.0->geopandas) (2.8.1)\n",
            "Requirement already satisfied: pytz>=2017.2 in /usr/local/lib/python3.6/dist-packages (from pandas>=0.23.0->geopandas) (2018.9)\n",
            "Requirement already satisfied: numpy>=1.13.3 in /usr/local/lib/python3.6/dist-packages (from pandas>=0.23.0->geopandas) (1.18.3)\n",
            "Installing collected packages: click-plugins, munch, cligj, fiona, pyproj, geopandas\n",
            "Successfully installed click-plugins-1.1.1 cligj-0.5.0 fiona-1.8.13.post1 geopandas-0.7.0 munch-2.5.0 pyproj-2.6.1.post1\n"
          ],
          "name": "stdout"
        }
      ]
    },
    {
      "cell_type": "code",
      "metadata": {
        "id": "wnaqGD4MthE_",
        "colab_type": "code",
        "outputId": "9a39c2b4-4a9f-4606-bf54-4b9a00442d87",
        "colab": {
          "base_uri": "https://localhost:8080/",
          "height": 941
        }
      },
      "source": [
        "pip install dash"
      ],
      "execution_count": 0,
      "outputs": [
        {
          "output_type": "stream",
          "text": [
            "Collecting dash\n",
            "\u001b[?25l  Downloading https://files.pythonhosted.org/packages/d0/48/7a564cdbecdca653c9cb135c5be52c98d855ac13e305094450d7ecac5d89/dash-1.12.0.tar.gz (66kB)\n",
            "\r\u001b[K     |█████                           | 10kB 18.1MB/s eta 0:00:01\r\u001b[K     |█████████▉                      | 20kB 6.3MB/s eta 0:00:01\r\u001b[K     |██████████████▉                 | 30kB 6.8MB/s eta 0:00:01\r\u001b[K     |███████████████████▊            | 40kB 8.3MB/s eta 0:00:01\r\u001b[K     |████████████████████████▊       | 51kB 6.8MB/s eta 0:00:01\r\u001b[K     |█████████████████████████████▋  | 61kB 7.4MB/s eta 0:00:01\r\u001b[K     |████████████████████████████████| 71kB 4.8MB/s \n",
            "\u001b[?25hRequirement already satisfied: Flask>=1.0.2 in /usr/local/lib/python3.6/dist-packages (from dash) (1.1.2)\n",
            "Collecting flask-compress\n",
            "  Downloading https://files.pythonhosted.org/packages/a0/96/cd684c1ffe97b513303b5bfd4bbfb4114c5f4a5ea8a737af6fd813273df8/Flask-Compress-1.5.0.tar.gz\n",
            "Requirement already satisfied: plotly in /usr/local/lib/python3.6/dist-packages (from dash) (4.4.1)\n",
            "Collecting dash_renderer==1.4.1\n",
            "\u001b[?25l  Downloading https://files.pythonhosted.org/packages/8e/51/45aa6e4caa3f426ac48b153ecf0fe371368aae46e3ea902c8317f630489a/dash_renderer-1.4.1.tar.gz (1.2MB)\n",
            "\u001b[K     |████████████████████████████████| 1.2MB 13.5MB/s \n",
            "\u001b[?25hCollecting dash-core-components==1.10.0\n",
            "\u001b[?25l  Downloading https://files.pythonhosted.org/packages/4e/94/a170d86934cd845c4cb881e8156c79459702783716ea6d92849805127204/dash_core_components-1.10.0.tar.gz (3.4MB)\n",
            "\u001b[K     |████████████████████████████████| 3.4MB 30.2MB/s \n",
            "\u001b[?25hCollecting dash-html-components==1.0.3\n",
            "\u001b[?25l  Downloading https://files.pythonhosted.org/packages/da/20/46714ae501ccf16e5e37ca160c06e27347d19889687454168730e6744cdc/dash_html_components-1.0.3.tar.gz (187kB)\n",
            "\u001b[K     |████████████████████████████████| 194kB 51.0MB/s \n",
            "\u001b[?25hCollecting dash-table==4.7.0\n",
            "\u001b[?25l  Downloading https://files.pythonhosted.org/packages/96/aa/e508295638f3d4342b8798d16931a8b353ff48e03d9d99c788f34ddac110/dash_table-4.7.0.tar.gz (1.8MB)\n",
            "\u001b[K     |████████████████████████████████| 1.8MB 51.7MB/s \n",
            "\u001b[?25hRequirement already satisfied: future in /usr/local/lib/python3.6/dist-packages (from dash) (0.16.0)\n",
            "Requirement already satisfied: Werkzeug>=0.15 in /usr/local/lib/python3.6/dist-packages (from Flask>=1.0.2->dash) (1.0.1)\n",
            "Requirement already satisfied: Jinja2>=2.10.1 in /usr/local/lib/python3.6/dist-packages (from Flask>=1.0.2->dash) (2.11.2)\n",
            "Requirement already satisfied: itsdangerous>=0.24 in /usr/local/lib/python3.6/dist-packages (from Flask>=1.0.2->dash) (1.1.0)\n",
            "Requirement already satisfied: click>=5.1 in /usr/local/lib/python3.6/dist-packages (from Flask>=1.0.2->dash) (7.1.2)\n",
            "Collecting brotli\n",
            "\u001b[?25l  Downloading https://files.pythonhosted.org/packages/f4/68/60a220454dc5083c6d59b41aa90bb1c96fad62a0abf3a33e0ef64b38638a/Brotli-1.0.7-cp36-cp36m-manylinux1_x86_64.whl (352kB)\n",
            "\u001b[K     |████████████████████████████████| 358kB 47.8MB/s \n",
            "\u001b[?25hRequirement already satisfied: retrying>=1.3.3 in /usr/local/lib/python3.6/dist-packages (from plotly->dash) (1.3.3)\n",
            "Requirement already satisfied: six in /usr/local/lib/python3.6/dist-packages (from plotly->dash) (1.12.0)\n",
            "Requirement already satisfied: MarkupSafe>=0.23 in /usr/local/lib/python3.6/dist-packages (from Jinja2>=2.10.1->Flask>=1.0.2->dash) (1.1.1)\n",
            "Building wheels for collected packages: dash, flask-compress, dash-renderer, dash-core-components, dash-html-components, dash-table\n",
            "  Building wheel for dash (setup.py) ... \u001b[?25l\u001b[?25hdone\n",
            "  Created wheel for dash: filename=dash-1.12.0-cp36-none-any.whl size=73892 sha256=c6b369578030fef0dfa1511d17776d88078ca6bb047cebeb8dec26b52721adc2\n",
            "  Stored in directory: /root/.cache/pip/wheels/2e/bc/dd/b4ebecb434c90eff7c5475efc10b72aad5a899c01fa87e2647\n",
            "  Building wheel for flask-compress (setup.py) ... \u001b[?25l\u001b[?25hdone\n",
            "  Created wheel for flask-compress: filename=Flask_Compress-1.5.0-cp36-none-any.whl size=5273 sha256=35be45f22739caf077ea9157a00446803a3cc08d87d8a1a89b7c84985bf8b731\n",
            "  Stored in directory: /root/.cache/pip/wheels/f7/e9/e4/5afc286be7c87461375e33152558415dfeb0c8f5af3b50e742\n",
            "  Building wheel for dash-renderer (setup.py) ... \u001b[?25l\u001b[?25hdone\n",
            "  Created wheel for dash-renderer: filename=dash_renderer-1.4.1-cp36-none-any.whl size=1165597 sha256=0875fe88fd714ea93b904bfc44cc04da6c0b1272c2177a75fd4b77446681c310\n",
            "  Stored in directory: /root/.cache/pip/wheels/be/9e/83/c6531c3fdd6dba27156e7196c273148d850c97bda396fec7d0\n",
            "  Building wheel for dash-core-components (setup.py) ... \u001b[?25l\u001b[?25hdone\n",
            "  Created wheel for dash-core-components: filename=dash_core_components-1.10.0-cp36-none-any.whl size=3454754 sha256=7ebd32c7592a6571a69e601503a5f1a0b450a8173369e6d44ef696f46ff5f9d7\n",
            "  Stored in directory: /root/.cache/pip/wheels/61/5c/e3/0958785022517a2e5934e7b5167a8f824f79c96a5e440bd622\n",
            "  Building wheel for dash-html-components (setup.py) ... \u001b[?25l\u001b[?25hdone\n",
            "  Created wheel for dash-html-components: filename=dash_html_components-1.0.3-cp36-none-any.whl size=427303 sha256=efc3ad053e92fdcf3101b813cf5aec4c8176952d8926b7a721c479815ce3a945\n",
            "  Stored in directory: /root/.cache/pip/wheels/22/c0/79/ef4c2b20a23dc8457ae75c3da5f63163db213d86e13e00fe26\n",
            "  Building wheel for dash-table (setup.py) ... \u001b[?25l\u001b[?25hdone\n",
            "  Created wheel for dash-table: filename=dash_table-4.7.0-cp36-none-any.whl size=1777561 sha256=75e6202954903f194eaf869d5c192d43497fb45dafc5b8db40928d40bc5c57d4\n",
            "  Stored in directory: /root/.cache/pip/wheels/de/59/d5/9da253860a20edebff16497d01b703d2a8db97130c5bd86fbf\n",
            "Successfully built dash flask-compress dash-renderer dash-core-components dash-html-components dash-table\n",
            "Installing collected packages: brotli, flask-compress, dash-renderer, dash-core-components, dash-html-components, dash-table, dash\n",
            "Successfully installed brotli-1.0.7 dash-1.12.0 dash-core-components-1.10.0 dash-html-components-1.0.3 dash-renderer-1.4.1 dash-table-4.7.0 flask-compress-1.5.0\n"
          ],
          "name": "stdout"
        }
      ]
    },
    {
      "cell_type": "code",
      "metadata": {
        "id": "u9b66IEe8Yoa",
        "colab_type": "code",
        "outputId": "4cee5b83-9de8-43e9-d564-6b51554c68be",
        "colab": {
          "base_uri": "https://localhost:8080/",
          "height": 176
        }
      },
      "source": [
        "pip install timezonefinder[numba]"
      ],
      "execution_count": 0,
      "outputs": [
        {
          "output_type": "stream",
          "text": [
            "Collecting timezonefinder[numba]\n",
            "\u001b[?25l  Downloading https://files.pythonhosted.org/packages/d8/68/b0c92b9eb71b57c0806f671b01a6c5342152388b14a18189f3607e0c7a4c/timezonefinder-4.3.1-py36.py37.py38-none-any.whl (39.2MB)\n",
            "\u001b[K     |████████████████████████████████| 39.2MB 106kB/s \n",
            "\u001b[?25hRequirement already satisfied: numpy>=1.16 in /usr/local/lib/python3.6/dist-packages (from timezonefinder[numba]) (1.18.3)\n",
            "Requirement already satisfied: numba>=0.48; extra == \"numba\" in /usr/local/lib/python3.6/dist-packages (from timezonefinder[numba]) (0.48.0)\n",
            "Requirement already satisfied: llvmlite<0.32.0,>=0.31.0dev0 in /usr/local/lib/python3.6/dist-packages (from numba>=0.48; extra == \"numba\"->timezonefinder[numba]) (0.31.0)\n",
            "Requirement already satisfied: setuptools in /usr/local/lib/python3.6/dist-packages (from numba>=0.48; extra == \"numba\"->timezonefinder[numba]) (46.1.3)\n",
            "Installing collected packages: timezonefinder\n",
            "Successfully installed timezonefinder-4.3.1\n"
          ],
          "name": "stdout"
        }
      ]
    },
    {
      "cell_type": "code",
      "metadata": {
        "id": "1pS5P9eyKprD",
        "colab_type": "code",
        "outputId": "7a66540a-3e23-432f-9be1-c326e96e65e4",
        "colab": {
          "base_uri": "https://localhost:8080/",
          "height": 34
        }
      },
      "source": [
        "pip install pytz"
      ],
      "execution_count": 0,
      "outputs": [
        {
          "output_type": "stream",
          "text": [
            "Requirement already satisfied: pytz in /usr/local/lib/python3.6/dist-packages (2018.9)\n"
          ],
          "name": "stdout"
        }
      ]
    },
    {
      "cell_type": "code",
      "metadata": {
        "id": "QIxT5Uqgk_6f",
        "colab_type": "code",
        "colab": {}
      },
      "source": [
        "import geopandas as gpd\n",
        "import pandas as pd"
      ],
      "execution_count": 0,
      "outputs": []
    },
    {
      "cell_type": "code",
      "metadata": {
        "id": "qVBlufxPGDVD",
        "colab_type": "code",
        "colab": {}
      },
      "source": [
        "# # data = 'https://earthquake.usgs.gov/earthquakes/feed/v1.0/summary/all_month.geojson'\n",
        "# data = 'https://earthquake.usgs.gov/earthquakes/feed/v1.0/summary/all_month.csv'\n",
        "# # df = gpd.read_file(data)\n",
        "# df = pd.read_csv(data)\n",
        "# crs = {'init': 'epsg:4326'}\n",
        "# print(type(df))\n",
        "# df.head()"
      ],
      "execution_count": 0,
      "outputs": []
    },
    {
      "cell_type": "code",
      "metadata": {
        "id": "iwSgOKMxY23F",
        "colab_type": "code",
        "colab": {}
      },
      "source": [
        "import matplotlib.pyplot as plt\n",
        "# import descartes\n",
        "# from shapely.geometry import Point, Polygon"
      ],
      "execution_count": 0,
      "outputs": []
    },
    {
      "cell_type": "code",
      "metadata": {
        "id": "1pYqu3ZyZTun",
        "colab_type": "code",
        "colab": {}
      },
      "source": [
        "# world = gpd.read_file('/content/TM_WORLD_BORDERS-0.3.shp')"
      ],
      "execution_count": 0,
      "outputs": []
    },
    {
      "cell_type": "code",
      "metadata": {
        "id": "oVCdnW1kZ_Pj",
        "colab_type": "code",
        "colab": {}
      },
      "source": [
        "# fig, ax = plt.subplots(figsize=(30, 30))\n",
        "# world.plot(ax = ax)"
      ],
      "execution_count": 0,
      "outputs": []
    },
    {
      "cell_type": "code",
      "metadata": {
        "id": "Lig0eR7wakyS",
        "colab_type": "code",
        "colab": {}
      },
      "source": [
        "# geometry = [Point(xy) for xy in zip( df['longitude'], df['latitude'])]\n",
        "# geometry[:3]"
      ],
      "execution_count": 0,
      "outputs": []
    },
    {
      "cell_type": "code",
      "metadata": {
        "id": "tGaNAqfsbVrl",
        "colab_type": "code",
        "colab": {}
      },
      "source": [
        "# geo_df = gpd.GeoDataFrame(df, crs = crs, geometry = geometry)\n",
        "# geo_df.head()"
      ],
      "execution_count": 0,
      "outputs": []
    },
    {
      "cell_type": "code",
      "metadata": {
        "id": "MKqLnmeDbfOJ",
        "colab_type": "code",
        "colab": {}
      },
      "source": [
        "# fig, ax = plt.subplots(figsize = (30, 30))\n",
        "# world.plot(ax=ax, alpha = 0.4, color='grey')\n",
        "# plt.scatter(x = df['longitude'], y = df['latitude'], c = df['mag'], marker = 'o', label = 'mag', s=df['mag'])\n",
        "# plt.legend(loc=\"upper right\")"
      ],
      "execution_count": 0,
      "outputs": []
    },
    {
      "cell_type": "code",
      "metadata": {
        "id": "79R9tP2rkk_C",
        "colab_type": "code",
        "colab": {}
      },
      "source": [
        "# pk.eyJ1IjoibGVjaGVtcmMiLCJhIjoiY2s4eHgxZjY4MWNneTNmcHJyaXdyeWFuaiJ9.IGpe6KgBpbnOOiKWE0VLtw"
      ],
      "execution_count": 0,
      "outputs": []
    },
    {
      "cell_type": "markdown",
      "metadata": {
        "id": "Ou8m6Oxy1Tim",
        "colab_type": "text"
      },
      "source": [
        "# GeoJSON with geopandas"
      ]
    },
    {
      "cell_type": "code",
      "metadata": {
        "id": "a7stbVR5jrCd",
        "colab_type": "code",
        "colab": {}
      },
      "source": [
        "#import necessary libraries\n",
        "import numpy as np \n",
        "import pandas as pd\n",
        "import plotly as py\n",
        "import sklearn\n",
        "import plotly.offline as offline\n",
        "import plotly.graph_objs as go\n",
        "import geopandas as gpd\n",
        "import datetime\n",
        "import re"
      ],
      "execution_count": 0,
      "outputs": []
    },
    {
      "cell_type": "code",
      "metadata": {
        "id": "Au5CVZoHrp7A",
        "colab_type": "code",
        "outputId": "d5c2c0d2-1f37-4a8f-9ea7-716e4db8d40f",
        "colab": {
          "base_uri": "https://localhost:8080/",
          "height": 514
        }
      },
      "source": [
        "thirty = gpd.read_file('https://earthquake.usgs.gov/earthquakes/feed/v1.0/summary/all_month.geojson')\n",
        "col_list = []\n",
        "for col in thirty.columns:\n",
        "    col_list.append(col)\n",
        "\n",
        "col_list"
      ],
      "execution_count": 0,
      "outputs": [
        {
          "output_type": "execute_result",
          "data": {
            "text/plain": [
              "['id',\n",
              " 'mag',\n",
              " 'place',\n",
              " 'time',\n",
              " 'updated',\n",
              " 'tz',\n",
              " 'url',\n",
              " 'detail',\n",
              " 'felt',\n",
              " 'cdi',\n",
              " 'mmi',\n",
              " 'alert',\n",
              " 'status',\n",
              " 'tsunami',\n",
              " 'sig',\n",
              " 'net',\n",
              " 'code',\n",
              " 'ids',\n",
              " 'sources',\n",
              " 'types',\n",
              " 'nst',\n",
              " 'dmin',\n",
              " 'rms',\n",
              " 'gap',\n",
              " 'magType',\n",
              " 'type',\n",
              " 'title',\n",
              " 'geometry']"
            ]
          },
          "metadata": {
            "tags": []
          },
          "execution_count": 15
        }
      ]
    },
    {
      "cell_type": "code",
      "metadata": {
        "id": "1wfIZfAvzO1B",
        "colab_type": "code",
        "colab": {}
      },
      "source": [
        "thirty['dist_from_city'] = thirty['place'].str.split('of ', expand=True)[0]\n",
        "thirty['city'] = thirty['place'].str.split('of ', expand=True)[1]\n",
        "thirty['city'] = thirty['city'].str.split(', ', expand=True)[0]\n",
        "thirty['country'] = thirty['place'].str.split(', ', expand=True)[1]"
      ],
      "execution_count": 0,
      "outputs": []
    },
    {
      "cell_type": "code",
      "metadata": {
        "id": "2XDsEq2R1RVK",
        "colab_type": "code",
        "outputId": "7273f3ed-614d-4948-b61b-3f147c9d4aab",
        "colab": {
          "base_uri": "https://localhost:8080/",
          "height": 197
        }
      },
      "source": [
        "geo = thirty[['geometry', 'city', 'country']]\n",
        "geo.head()"
      ],
      "execution_count": 0,
      "outputs": [
        {
          "output_type": "execute_result",
          "data": {
            "text/html": [
              "<div>\n",
              "<style scoped>\n",
              "    .dataframe tbody tr th:only-of-type {\n",
              "        vertical-align: middle;\n",
              "    }\n",
              "\n",
              "    .dataframe tbody tr th {\n",
              "        vertical-align: top;\n",
              "    }\n",
              "\n",
              "    .dataframe thead th {\n",
              "        text-align: right;\n",
              "    }\n",
              "</style>\n",
              "<table border=\"1\" class=\"dataframe\">\n",
              "  <thead>\n",
              "    <tr style=\"text-align: right;\">\n",
              "      <th></th>\n",
              "      <th>geometry</th>\n",
              "      <th>city</th>\n",
              "      <th>country</th>\n",
              "    </tr>\n",
              "  </thead>\n",
              "  <tbody>\n",
              "    <tr>\n",
              "      <th>0</th>\n",
              "      <td>POINT Z (-116.77983 33.50517 7.02000)</td>\n",
              "      <td>Aguanga</td>\n",
              "      <td>CA</td>\n",
              "    </tr>\n",
              "    <tr>\n",
              "      <th>1</th>\n",
              "      <td>POINT Z (-122.84534 38.82133 2.34000)</td>\n",
              "      <td>The Geysers</td>\n",
              "      <td>CA</td>\n",
              "    </tr>\n",
              "    <tr>\n",
              "      <th>2</th>\n",
              "      <td>POINT Z (-116.77367 33.67517 10.43000)</td>\n",
              "      <td>Idyllwild</td>\n",
              "      <td>CA</td>\n",
              "    </tr>\n",
              "    <tr>\n",
              "      <th>3</th>\n",
              "      <td>POINT Z (-122.57684 38.51217 9.65000)</td>\n",
              "      <td>Calistoga</td>\n",
              "      <td>CA</td>\n",
              "    </tr>\n",
              "    <tr>\n",
              "      <th>4</th>\n",
              "      <td>POINT Z (-117.48533 35.68417 2.64000)</td>\n",
              "      <td>Searles Valley</td>\n",
              "      <td>CA</td>\n",
              "    </tr>\n",
              "  </tbody>\n",
              "</table>\n",
              "</div>"
            ],
            "text/plain": [
              "                                 geometry            city country\n",
              "0   POINT Z (-116.77983 33.50517 7.02000)         Aguanga      CA\n",
              "1   POINT Z (-122.84534 38.82133 2.34000)     The Geysers      CA\n",
              "2  POINT Z (-116.77367 33.67517 10.43000)       Idyllwild      CA\n",
              "3   POINT Z (-122.57684 38.51217 9.65000)       Calistoga      CA\n",
              "4   POINT Z (-117.48533 35.68417 2.64000)  Searles Valley      CA"
            ]
          },
          "metadata": {
            "tags": []
          },
          "execution_count": 17
        }
      ]
    },
    {
      "cell_type": "code",
      "metadata": {
        "id": "ILqu6rN01l_Q",
        "colab_type": "code",
        "outputId": "5b0b5612-8164-4751-d7ef-f965d2b8e7b5",
        "colab": {
          "base_uri": "https://localhost:8080/",
          "height": 320
        }
      },
      "source": [
        "geo['centroid_col'] = geo['geometry'].centroid\n",
        "geo = geo.set_geometry('centroid_col')\n",
        "geo.plot();"
      ],
      "execution_count": 0,
      "outputs": [
        {
          "output_type": "stream",
          "text": [
            "/usr/local/lib/python3.6/dist-packages/ipykernel_launcher.py:1: SettingWithCopyWarning:\n",
            "\n",
            "\n",
            "A value is trying to be set on a copy of a slice from a DataFrame.\n",
            "Try using .loc[row_indexer,col_indexer] = value instead\n",
            "\n",
            "See the caveats in the documentation: https://pandas.pydata.org/pandas-docs/stable/user_guide/indexing.html#returning-a-view-versus-a-copy\n",
            "\n"
          ],
          "name": "stderr"
        },
        {
          "output_type": "display_data",
          "data": {
            "image/png": "[encoded data removed]",
            "text/plain": [
              "<Figure size 432x288 with 1 Axes>"
            ]
          },
          "metadata": {
            "tags": [],
            "needs_background": "light"
          }
        }
      ]
    },
    {
      "cell_type": "code",
      "metadata": {
        "id": "9_qRoS0_zoqa",
        "colab_type": "code",
        "outputId": "31905286-259e-4a8d-caac-72c9e5824d0e",
        "colab": {
          "base_uri": "https://localhost:8080/",
          "height": 197
        }
      },
      "source": [
        "geo.head()"
      ],
      "execution_count": 0,
      "outputs": [
        {
          "output_type": "execute_result",
          "data": {
            "text/html": [
              "<div>\n",
              "<style scoped>\n",
              "    .dataframe tbody tr th:only-of-type {\n",
              "        vertical-align: middle;\n",
              "    }\n",
              "\n",
              "    .dataframe tbody tr th {\n",
              "        vertical-align: top;\n",
              "    }\n",
              "\n",
              "    .dataframe thead th {\n",
              "        text-align: right;\n",
              "    }\n",
              "</style>\n",
              "<table border=\"1\" class=\"dataframe\">\n",
              "  <thead>\n",
              "    <tr style=\"text-align: right;\">\n",
              "      <th></th>\n",
              "      <th>geometry</th>\n",
              "      <th>city</th>\n",
              "      <th>country</th>\n",
              "      <th>centroid_col</th>\n",
              "    </tr>\n",
              "  </thead>\n",
              "  <tbody>\n",
              "    <tr>\n",
              "      <th>0</th>\n",
              "      <td>POINT Z (-116.77983 33.50517 7.02000)</td>\n",
              "      <td>Aguanga</td>\n",
              "      <td>CA</td>\n",
              "      <td>POINT (-116.77983 33.50517)</td>\n",
              "    </tr>\n",
              "    <tr>\n",
              "      <th>1</th>\n",
              "      <td>POINT Z (-122.84534 38.82133 2.34000)</td>\n",
              "      <td>The Geysers</td>\n",
              "      <td>CA</td>\n",
              "      <td>POINT (-122.84534 38.82133)</td>\n",
              "    </tr>\n",
              "    <tr>\n",
              "      <th>2</th>\n",
              "      <td>POINT Z (-116.77367 33.67517 10.43000)</td>\n",
              "      <td>Idyllwild</td>\n",
              "      <td>CA</td>\n",
              "      <td>POINT (-116.77367 33.67517)</td>\n",
              "    </tr>\n",
              "    <tr>\n",
              "      <th>3</th>\n",
              "      <td>POINT Z (-122.57684 38.51217 9.65000)</td>\n",
              "      <td>Calistoga</td>\n",
              "      <td>CA</td>\n",
              "      <td>POINT (-122.57684 38.51217)</td>\n",
              "    </tr>\n",
              "    <tr>\n",
              "      <th>4</th>\n",
              "      <td>POINT Z (-117.48533 35.68417 2.64000)</td>\n",
              "      <td>Searles Valley</td>\n",
              "      <td>CA</td>\n",
              "      <td>POINT (-117.48533 35.68417)</td>\n",
              "    </tr>\n",
              "  </tbody>\n",
              "</table>\n",
              "</div>"
            ],
            "text/plain": [
              "                                 geometry  ...                 centroid_col\n",
              "0   POINT Z (-116.77983 33.50517 7.02000)  ...  POINT (-116.77983 33.50517)\n",
              "1   POINT Z (-122.84534 38.82133 2.34000)  ...  POINT (-122.84534 38.82133)\n",
              "2  POINT Z (-116.77367 33.67517 10.43000)  ...  POINT (-116.77367 33.67517)\n",
              "3   POINT Z (-122.57684 38.51217 9.65000)  ...  POINT (-122.57684 38.51217)\n",
              "4   POINT Z (-117.48533 35.68417 2.64000)  ...  POINT (-117.48533 35.68417)\n",
              "\n",
              "[5 rows x 4 columns]"
            ]
          },
          "metadata": {
            "tags": []
          },
          "execution_count": 19
        }
      ]
    },
    {
      "cell_type": "code",
      "metadata": {
        "id": "P67WOWYnHqPL",
        "colab_type": "code",
        "colab": {}
      },
      "source": [
        "geo['lat'] = [geo['geometry'][i].x for i in range(len(geo['geometry']))]\n",
        "geo['long'] = [geo['geometry'][i].y for i in range(len(geo['geometry']))]\n",
        "geo['depth'] = [geo['geometry'][i].z for i in range(len(geo['geometry']))]"
      ],
      "execution_count": 0,
      "outputs": []
    },
    {
      "cell_type": "code",
      "metadata": {
        "id": "lLLOC5Mo9CQT",
        "colab_type": "code",
        "outputId": "fd598c54-9990-47aa-e327-3af5adde4be4",
        "colab": {
          "base_uri": "https://localhost:8080/",
          "height": 347
        }
      },
      "source": [
        "geo.head(10)"
      ],
      "execution_count": 0,
      "outputs": [
        {
          "output_type": "execute_result",
          "data": {
            "text/html": [
              "<div>\n",
              "<style scoped>\n",
              "    .dataframe tbody tr th:only-of-type {\n",
              "        vertical-align: middle;\n",
              "    }\n",
              "\n",
              "    .dataframe tbody tr th {\n",
              "        vertical-align: top;\n",
              "    }\n",
              "\n",
              "    .dataframe thead th {\n",
              "        text-align: right;\n",
              "    }\n",
              "</style>\n",
              "<table border=\"1\" class=\"dataframe\">\n",
              "  <thead>\n",
              "    <tr style=\"text-align: right;\">\n",
              "      <th></th>\n",
              "      <th>geometry</th>\n",
              "      <th>city</th>\n",
              "      <th>country</th>\n",
              "      <th>centroid_col</th>\n",
              "      <th>lat</th>\n",
              "      <th>long</th>\n",
              "      <th>depth</th>\n",
              "    </tr>\n",
              "  </thead>\n",
              "  <tbody>\n",
              "    <tr>\n",
              "      <th>0</th>\n",
              "      <td>POINT Z (-116.77983 33.50517 7.02000)</td>\n",
              "      <td>Aguanga</td>\n",
              "      <td>CA</td>\n",
              "      <td>POINT (-116.77983 33.50517)</td>\n",
              "      <td>-116.779833</td>\n",
              "      <td>33.505167</td>\n",
              "      <td>7.02</td>\n",
              "    </tr>\n",
              "    <tr>\n",
              "      <th>1</th>\n",
              "      <td>POINT Z (-122.84534 38.82133 2.34000)</td>\n",
              "      <td>The Geysers</td>\n",
              "      <td>CA</td>\n",
              "      <td>POINT (-122.84534 38.82133)</td>\n",
              "      <td>-122.845337</td>\n",
              "      <td>38.821335</td>\n",
              "      <td>2.34</td>\n",
              "    </tr>\n",
              "    <tr>\n",
              "      <th>2</th>\n",
              "      <td>POINT Z (-116.77367 33.67517 10.43000)</td>\n",
              "      <td>Idyllwild</td>\n",
              "      <td>CA</td>\n",
              "      <td>POINT (-116.77367 33.67517)</td>\n",
              "      <td>-116.773667</td>\n",
              "      <td>33.675167</td>\n",
              "      <td>10.43</td>\n",
              "    </tr>\n",
              "    <tr>\n",
              "      <th>3</th>\n",
              "      <td>POINT Z (-122.57684 38.51217 9.65000)</td>\n",
              "      <td>Calistoga</td>\n",
              "      <td>CA</td>\n",
              "      <td>POINT (-122.57684 38.51217)</td>\n",
              "      <td>-122.576836</td>\n",
              "      <td>38.512165</td>\n",
              "      <td>9.65</td>\n",
              "    </tr>\n",
              "    <tr>\n",
              "      <th>4</th>\n",
              "      <td>POINT Z (-117.48533 35.68417 2.64000)</td>\n",
              "      <td>Searles Valley</td>\n",
              "      <td>CA</td>\n",
              "      <td>POINT (-117.48533 35.68417)</td>\n",
              "      <td>-117.485333</td>\n",
              "      <td>35.684167</td>\n",
              "      <td>2.64</td>\n",
              "    </tr>\n",
              "    <tr>\n",
              "      <th>5</th>\n",
              "      <td>POINT Z (-145.08970 63.44470 5.60000)</td>\n",
              "      <td>Deltana</td>\n",
              "      <td>Alaska</td>\n",
              "      <td>POINT (-145.08970 63.44470)</td>\n",
              "      <td>-145.089700</td>\n",
              "      <td>63.444700</td>\n",
              "      <td>5.60</td>\n",
              "    </tr>\n",
              "    <tr>\n",
              "      <th>6</th>\n",
              "      <td>POINT Z (-76.73290 -5.72960 24.21000)</td>\n",
              "      <td>Moyobamba</td>\n",
              "      <td>Peru</td>\n",
              "      <td>POINT (-76.73290 -5.72960)</td>\n",
              "      <td>-76.732900</td>\n",
              "      <td>-5.729600</td>\n",
              "      <td>24.21</td>\n",
              "    </tr>\n",
              "    <tr>\n",
              "      <th>7</th>\n",
              "      <td>POINT Z (-146.82770 61.35700 29.10000)</td>\n",
              "      <td>Valdez</td>\n",
              "      <td>Alaska</td>\n",
              "      <td>POINT (-146.82770 61.35700)</td>\n",
              "      <td>-146.827700</td>\n",
              "      <td>61.357000</td>\n",
              "      <td>29.10</td>\n",
              "    </tr>\n",
              "    <tr>\n",
              "      <th>8</th>\n",
              "      <td>POINT Z (-66.87710 17.89430 14.00000)</td>\n",
              "      <td>Guanica</td>\n",
              "      <td>Puerto Rico</td>\n",
              "      <td>POINT (-66.87710 17.89430)</td>\n",
              "      <td>-66.877100</td>\n",
              "      <td>17.894300</td>\n",
              "      <td>14.00</td>\n",
              "    </tr>\n",
              "    <tr>\n",
              "      <th>9</th>\n",
              "      <td>POINT Z (-116.80967 33.58883 4.83000)</td>\n",
              "      <td>Anza</td>\n",
              "      <td>CA</td>\n",
              "      <td>POINT (-116.80967 33.58883)</td>\n",
              "      <td>-116.809667</td>\n",
              "      <td>33.588833</td>\n",
              "      <td>4.83</td>\n",
              "    </tr>\n",
              "  </tbody>\n",
              "</table>\n",
              "</div>"
            ],
            "text/plain": [
              "                                 geometry            city  ...       long  depth\n",
              "0   POINT Z (-116.77983 33.50517 7.02000)         Aguanga  ...  33.505167   7.02\n",
              "1   POINT Z (-122.84534 38.82133 2.34000)     The Geysers  ...  38.821335   2.34\n",
              "2  POINT Z (-116.77367 33.67517 10.43000)       Idyllwild  ...  33.675167  10.43\n",
              "3   POINT Z (-122.57684 38.51217 9.65000)       Calistoga  ...  38.512165   9.65\n",
              "4   POINT Z (-117.48533 35.68417 2.64000)  Searles Valley  ...  35.684167   2.64\n",
              "5   POINT Z (-145.08970 63.44470 5.60000)         Deltana  ...  63.444700   5.60\n",
              "6   POINT Z (-76.73290 -5.72960 24.21000)       Moyobamba  ...  -5.729600  24.21\n",
              "7  POINT Z (-146.82770 61.35700 29.10000)          Valdez  ...  61.357000  29.10\n",
              "8   POINT Z (-66.87710 17.89430 14.00000)         Guanica  ...  17.894300  14.00\n",
              "9   POINT Z (-116.80967 33.58883 4.83000)            Anza  ...  33.588833   4.83\n",
              "\n",
              "[10 rows x 7 columns]"
            ]
          },
          "metadata": {
            "tags": []
          },
          "execution_count": 21
        }
      ]
    },
    {
      "cell_type": "code",
      "metadata": {
        "id": "mL3n5fuKHf8V",
        "colab_type": "code",
        "outputId": "03f5a0f4-72d1-4231-8ce0-a7d82569a3d4",
        "colab": {
          "base_uri": "https://localhost:8080/",
          "height": 197
        }
      },
      "source": [
        "geo.head()"
      ],
      "execution_count": 0,
      "outputs": [
        {
          "output_type": "execute_result",
          "data": {
            "text/html": [
              "<div>\n",
              "<style scoped>\n",
              "    .dataframe tbody tr th:only-of-type {\n",
              "        vertical-align: middle;\n",
              "    }\n",
              "\n",
              "    .dataframe tbody tr th {\n",
              "        vertical-align: top;\n",
              "    }\n",
              "\n",
              "    .dataframe thead th {\n",
              "        text-align: right;\n",
              "    }\n",
              "</style>\n",
              "<table border=\"1\" class=\"dataframe\">\n",
              "  <thead>\n",
              "    <tr style=\"text-align: right;\">\n",
              "      <th></th>\n",
              "      <th>geometry</th>\n",
              "      <th>city</th>\n",
              "      <th>country</th>\n",
              "      <th>centroid_col</th>\n",
              "      <th>lat</th>\n",
              "      <th>long</th>\n",
              "      <th>depth</th>\n",
              "    </tr>\n",
              "  </thead>\n",
              "  <tbody>\n",
              "    <tr>\n",
              "      <th>0</th>\n",
              "      <td>POINT Z (-116.77983 33.50517 7.02000)</td>\n",
              "      <td>Aguanga</td>\n",
              "      <td>CA</td>\n",
              "      <td>POINT (-116.77983 33.50517)</td>\n",
              "      <td>-116.779833</td>\n",
              "      <td>33.505167</td>\n",
              "      <td>7.02</td>\n",
              "    </tr>\n",
              "    <tr>\n",
              "      <th>1</th>\n",
              "      <td>POINT Z (-122.84534 38.82133 2.34000)</td>\n",
              "      <td>The Geysers</td>\n",
              "      <td>CA</td>\n",
              "      <td>POINT (-122.84534 38.82133)</td>\n",
              "      <td>-122.845337</td>\n",
              "      <td>38.821335</td>\n",
              "      <td>2.34</td>\n",
              "    </tr>\n",
              "    <tr>\n",
              "      <th>2</th>\n",
              "      <td>POINT Z (-116.77367 33.67517 10.43000)</td>\n",
              "      <td>Idyllwild</td>\n",
              "      <td>CA</td>\n",
              "      <td>POINT (-116.77367 33.67517)</td>\n",
              "      <td>-116.773667</td>\n",
              "      <td>33.675167</td>\n",
              "      <td>10.43</td>\n",
              "    </tr>\n",
              "    <tr>\n",
              "      <th>3</th>\n",
              "      <td>POINT Z (-122.57684 38.51217 9.65000)</td>\n",
              "      <td>Calistoga</td>\n",
              "      <td>CA</td>\n",
              "      <td>POINT (-122.57684 38.51217)</td>\n",
              "      <td>-122.576836</td>\n",
              "      <td>38.512165</td>\n",
              "      <td>9.65</td>\n",
              "    </tr>\n",
              "    <tr>\n",
              "      <th>4</th>\n",
              "      <td>POINT Z (-117.48533 35.68417 2.64000)</td>\n",
              "      <td>Searles Valley</td>\n",
              "      <td>CA</td>\n",
              "      <td>POINT (-117.48533 35.68417)</td>\n",
              "      <td>-117.485333</td>\n",
              "      <td>35.684167</td>\n",
              "      <td>2.64</td>\n",
              "    </tr>\n",
              "  </tbody>\n",
              "</table>\n",
              "</div>"
            ],
            "text/plain": [
              "                                 geometry            city  ...       long  depth\n",
              "0   POINT Z (-116.77983 33.50517 7.02000)         Aguanga  ...  33.505167   7.02\n",
              "1   POINT Z (-122.84534 38.82133 2.34000)     The Geysers  ...  38.821335   2.34\n",
              "2  POINT Z (-116.77367 33.67517 10.43000)       Idyllwild  ...  33.675167  10.43\n",
              "3   POINT Z (-122.57684 38.51217 9.65000)       Calistoga  ...  38.512165   9.65\n",
              "4   POINT Z (-117.48533 35.68417 2.64000)  Searles Valley  ...  35.684167   2.64\n",
              "\n",
              "[5 rows x 7 columns]"
            ]
          },
          "metadata": {
            "tags": []
          },
          "execution_count": 22
        }
      ]
    },
    {
      "cell_type": "code",
      "metadata": {
        "id": "ttAd2BsW0q2a",
        "colab_type": "code",
        "outputId": "8a9d5b1a-96f7-4965-9fd4-9497f6034375",
        "colab": {
          "base_uri": "https://localhost:8080/",
          "height": 1000
        }
      },
      "source": [
        "help(geo['geometry'][0].centroid)"
      ],
      "execution_count": 0,
      "outputs": [
        {
          "output_type": "stream",
          "text": [
            "Help on Point in module shapely.geometry.point object:\n",
            "\n",
            "class Point(shapely.geometry.base.BaseGeometry)\n",
            " |  A zero dimensional feature\n",
            " |  \n",
            " |  A point has zero length and zero area.\n",
            " |  \n",
            " |  Attributes\n",
            " |  ----------\n",
            " |  x, y, z : float\n",
            " |      Coordinate values\n",
            " |  \n",
            " |  Example\n",
            " |  -------\n",
            " |    >>> p = Point(1.0, -1.0)\n",
            " |    >>> print(p)\n",
            " |    POINT (1.0000000000000000 -1.0000000000000000)\n",
            " |    >>> p.y\n",
            " |    -1.0\n",
            " |    >>> p.x\n",
            " |    1.0\n",
            " |  \n",
            " |  Method resolution order:\n",
            " |      Point\n",
            " |      shapely.geometry.base.BaseGeometry\n",
            " |      builtins.object\n",
            " |  \n",
            " |  Methods defined here:\n",
            " |  \n",
            " |  __init__(self, *args)\n",
            " |      Parameters\n",
            " |      ----------\n",
            " |      There are 2 cases:\n",
            " |      \n",
            " |      1) 1 parameter: this must satisfy the numpy array protocol.\n",
            " |      2) 2 or more parameters: x, y, z : float\n",
            " |          Easting, northing, and elevation.\n",
            " |  \n",
            " |  array_interface(self)\n",
            " |      Provide the Numpy array protocol.\n",
            " |  \n",
            " |  svg(self, scale_factor=1.0, fill_color=None)\n",
            " |      Returns SVG circle element for the Point geometry.\n",
            " |      \n",
            " |      Parameters\n",
            " |      ==========\n",
            " |      scale_factor : float\n",
            " |          Multiplication factor for the SVG circle diameter.  Default is 1.\n",
            " |      fill_color : str, optional\n",
            " |          Hex string for fill color. Default is to use \"#66cc99\" if\n",
            " |          geometry is valid, and \"#ff3333\" if invalid.\n",
            " |  \n",
            " |  ----------------------------------------------------------------------\n",
            " |  Data descriptors defined here:\n",
            " |  \n",
            " |  __array_interface__\n",
            " |      Provide the Numpy array protocol.\n",
            " |  \n",
            " |  __geo_interface__\n",
            " |      Dictionary representation of the geometry\n",
            " |  \n",
            " |  bounds\n",
            " |      Returns minimum bounding region (minx, miny, maxx, maxy)\n",
            " |  \n",
            " |  coords\n",
            " |      Access to geometry's coordinates (CoordinateSequence)\n",
            " |  \n",
            " |  ctypes\n",
            " |      Return ctypes buffer\n",
            " |  \n",
            " |  x\n",
            " |      Return x coordinate.\n",
            " |  \n",
            " |  xy\n",
            " |      Separate arrays of X and Y coordinate values\n",
            " |      \n",
            " |      Example:\n",
            " |        >>> x, y = Point(0, 0).xy\n",
            " |        >>> list(x)\n",
            " |        [0.0]\n",
            " |        >>> list(y)\n",
            " |        [0.0]\n",
            " |  \n",
            " |  y\n",
            " |      Return y coordinate.\n",
            " |  \n",
            " |  z\n",
            " |      Return z coordinate.\n",
            " |  \n",
            " |  ----------------------------------------------------------------------\n",
            " |  Methods inherited from shapely.geometry.base.BaseGeometry:\n",
            " |  \n",
            " |  __and__(self, other)\n",
            " |  \n",
            " |  __bool__(self)\n",
            " |  \n",
            " |  __del__(self)\n",
            " |  \n",
            " |  __eq__(self, other)\n",
            " |      Return self==value.\n",
            " |  \n",
            " |  __ne__(self, other)\n",
            " |      Return self!=value.\n",
            " |  \n",
            " |  __nonzero__(self)\n",
            " |  \n",
            " |  __or__(self, other)\n",
            " |  \n",
            " |  __reduce__(self)\n",
            " |      helper for pickle\n",
            " |  \n",
            " |  __setstate__(self, state)\n",
            " |  \n",
            " |  __str__(self)\n",
            " |      Return str(self).\n",
            " |  \n",
            " |  __sub__(self, other)\n",
            " |  \n",
            " |  __xor__(self, other)\n",
            " |  \n",
            " |  almost_equals(self, other, decimal=6)\n",
            " |      Returns True if geometries are equal at all coordinates to a\n",
            " |      specified decimal place\n",
            " |      \n",
            " |      Refers to approximate coordinate equality, which requires coordinates be\n",
            " |      approximately equal and in the same order for all components of a geometry.\n",
            " |  \n",
            " |  buffer(self, distance, resolution=16, quadsegs=None, cap_style=1, join_style=1, mitre_limit=5.0, single_sided=False)\n",
            " |      Returns a geometry with an envelope at a distance from the object's\n",
            " |      envelope\n",
            " |      \n",
            " |      Parameters\n",
            " |      ==========\n",
            " |      distance: float\n",
            " |          The distance to buffer around the object. A negative distance has a \"shrink\" effect.\n",
            " |          A zero distance may be used to \"tidy\" a polygon.\n",
            " |      resolution: int, optional\n",
            " |          The resolution of the buffer around each vertex of the object.\n",
            " |      quadsegs: int, optional\n",
            " |          Sets the number of line segments used to approximate an angle fillet.\n",
            " |          Note: the use of a `quadsegs` parameter is deprecated and will be gone from\n",
            " |          the next major release.\n",
            " |      cap_style: int, optional\n",
            " |          The styles of caps are: CAP_STYLE.round (1), CAP_STYLE.flat (2), and\n",
            " |          CAP_STYLE.square (3).\n",
            " |      join_style: int, optional\n",
            " |          The styles of joins between offset segments are: JOIN_STYLE.round (1),\n",
            " |          JOIN_STYLE.mitre (2), and JOIN_STYLE.bevel (3).\n",
            " |      mitre_limit: float, optional\n",
            " |          The mitre limit ratio is used for very sharp corners. The mitre ratio\n",
            " |          is the ratio of the distance from the corner to the end of the mitred\n",
            " |          offset corner. When two line segments meet at a sharp angle, a miter\n",
            " |          join will extend the original geometry. To prevent unreasonable\n",
            " |          geometry, the mitre limit allows controlling the maximum length of the\n",
            " |          join corner. Corners with a ratio which exceed the limit will be\n",
            " |          beveled.\n",
            " |      single_side: bool, optional\n",
            " |          The side used is determined by the sign of the buffer distance:\n",
            " |              a positive distance indicates the left-hand side\n",
            " |              a negative distance indicates the right-hand side\n",
            " |          The single-sided buffer of point geometries is the same as the regular buffer.\n",
            " |          The End Cap Style for single-sided buffers is always ignored, and forced to the\n",
            " |          equivalent of CAP_FLAT.\n",
            " |      \n",
            " |      Example:\n",
            " |      \n",
            " |        >>> from shapely.wkt import loads\n",
            " |        >>> g = loads('POINT (0.0 0.0)')\n",
            " |        >>> g.buffer(1.0).area        # 16-gon approx of a unit radius circle\n",
            " |        3.1365484905459389\n",
            " |        >>> g.buffer(1.0, 128).area   # 128-gon approximation\n",
            " |        3.1415138011443009\n",
            " |        >>> g.buffer(1.0, 3).area     # triangle approximation\n",
            " |        3.0\n",
            " |        >>> list(g.buffer(1.0, cap_style=CAP_STYLE.square).exterior.coords)\n",
            " |        [(1.0, 1.0), (1.0, -1.0), (-1.0, -1.0), (-1.0, 1.0), (1.0, 1.0)]\n",
            " |        >>> g.buffer(1.0, cap_style=CAP_STYLE.square).area\n",
            " |        4.0\n",
            " |  \n",
            " |  contains(self, other)\n",
            " |      Returns True if the geometry contains the other, else False\n",
            " |  \n",
            " |  covers(self, other)\n",
            " |      Returns True if the geometry covers the other, else False\n",
            " |  \n",
            " |  crosses(self, other)\n",
            " |      Returns True if the geometries cross, else False\n",
            " |  \n",
            " |  difference(self, other)\n",
            " |      Returns the difference of the geometries\n",
            " |  \n",
            " |  disjoint(self, other)\n",
            " |      Returns True if geometries are disjoint, else False\n",
            " |  \n",
            " |  distance(self, other)\n",
            " |      Unitless distance to other geometry (float)\n",
            " |  \n",
            " |  empty(self, val=51733184)\n",
            " |  \n",
            " |  equals(self, other)\n",
            " |      Returns True if geometries are equal, else False\n",
            " |      \n",
            " |      Refers to point-set equality (or topological equality), and is equivalent to\n",
            " |      (self.within(other) & self.contains(other))\n",
            " |  \n",
            " |  equals_exact(self, other, tolerance)\n",
            " |      Returns True if geometries are equal to within a specified\n",
            " |      tolerance\n",
            " |      \n",
            " |      Refers to coordinate equality, which requires coordinates to be equal\n",
            " |      and in the same order for all components of a geometry\n",
            " |  \n",
            " |  geometryType(self)\n",
            " |  \n",
            " |  hausdorff_distance(self, other)\n",
            " |      Unitless hausdorff distance to other geometry (float)\n",
            " |  \n",
            " |  interpolate(self, distance, normalized=False)\n",
            " |      Return a point at the specified distance along a linear geometry\n",
            " |      \n",
            " |      Negative length values are taken as measured in the reverse\n",
            " |      direction from the end of the geometry. Out-of-range index\n",
            " |      values are handled by clamping them to the valid range of values.\n",
            " |      If the normalized arg is True, the distance will be interpreted as a\n",
            " |      fraction of the geometry's length.\n",
            " |  \n",
            " |  intersection(self, other)\n",
            " |      Returns the intersection of the geometries\n",
            " |  \n",
            " |  intersects(self, other)\n",
            " |      Returns True if geometries intersect, else False\n",
            " |  \n",
            " |  overlaps(self, other)\n",
            " |      Returns True if geometries overlap, else False\n",
            " |  \n",
            " |  project(self, other, normalized=False)\n",
            " |      Returns the distance along this geometry to a point nearest the\n",
            " |      specified point\n",
            " |      \n",
            " |      If the normalized arg is True, return the distance normalized to the\n",
            " |      length of the linear geometry.\n",
            " |  \n",
            " |  relate(self, other)\n",
            " |      Returns the DE-9IM intersection matrix for the two geometries\n",
            " |      (string)\n",
            " |  \n",
            " |  relate_pattern(self, other, pattern)\n",
            " |      Returns True if the DE-9IM string code for the relationship between\n",
            " |      the geometries satisfies the pattern, else False\n",
            " |  \n",
            " |  representative_point(self)\n",
            " |      Returns a point guaranteed to be within the object, cheaply.\n",
            " |  \n",
            " |  simplify(self, tolerance, preserve_topology=True)\n",
            " |      Returns a simplified geometry produced by the Douglas-Peucker\n",
            " |      algorithm\n",
            " |      \n",
            " |      Coordinates of the simplified geometry will be no more than the\n",
            " |      tolerance distance from the original. Unless the topology preserving\n",
            " |      option is used, the algorithm may produce self-intersecting or\n",
            " |      otherwise invalid geometries.\n",
            " |  \n",
            " |  symmetric_difference(self, other)\n",
            " |      Returns the symmetric difference of the geometries\n",
            " |      (Shapely geometry)\n",
            " |  \n",
            " |  to_wkb(self)\n",
            " |  \n",
            " |  to_wkt(self)\n",
            " |  \n",
            " |  touches(self, other)\n",
            " |      Returns True if geometries touch, else False\n",
            " |  \n",
            " |  union(self, other)\n",
            " |      Returns the union of the geometries (Shapely geometry)\n",
            " |  \n",
            " |  within(self, other)\n",
            " |      Returns True if geometry is within the other, else False\n",
            " |  \n",
            " |  ----------------------------------------------------------------------\n",
            " |  Data descriptors inherited from shapely.geometry.base.BaseGeometry:\n",
            " |  \n",
            " |  __dict__\n",
            " |      dictionary for instance variables (if defined)\n",
            " |  \n",
            " |  __weakref__\n",
            " |      list of weak references to the object (if defined)\n",
            " |  \n",
            " |  area\n",
            " |      Unitless area of the geometry (float)\n",
            " |  \n",
            " |  array_interface_base\n",
            " |  \n",
            " |  boundary\n",
            " |      Returns a lower dimension geometry that bounds the object\n",
            " |      \n",
            " |      The boundary of a polygon is a line, the boundary of a line is a\n",
            " |      collection of points. The boundary of a point is an empty (null)\n",
            " |      collection.\n",
            " |  \n",
            " |  centroid\n",
            " |      Returns the geometric center of the object\n",
            " |  \n",
            " |  convex_hull\n",
            " |      Imagine an elastic band stretched around the geometry: that's a\n",
            " |      convex hull, more or less\n",
            " |      \n",
            " |      The convex hull of a three member multipoint, for example, is a\n",
            " |      triangular polygon.\n",
            " |  \n",
            " |  envelope\n",
            " |      A figure that envelopes the geometry\n",
            " |  \n",
            " |  geom_type\n",
            " |      Name of the geometry's type, such as 'Point'\n",
            " |  \n",
            " |  has_z\n",
            " |      True if the geometry's coordinate sequence(s) have z values (are\n",
            " |      3-dimensional)\n",
            " |  \n",
            " |  is_closed\n",
            " |      True if the geometry is closed, else False\n",
            " |      \n",
            " |      Applicable only to 1-D geometries.\n",
            " |  \n",
            " |  is_empty\n",
            " |      True if the set of points in this geometry is empty, else False\n",
            " |  \n",
            " |  is_ring\n",
            " |      True if the geometry is a closed ring, else False\n",
            " |  \n",
            " |  is_simple\n",
            " |      True if the geometry is simple, meaning that any self-intersections\n",
            " |      are only at boundary points, else False\n",
            " |  \n",
            " |  is_valid\n",
            " |      True if the geometry is valid (definition depends on sub-class),\n",
            " |      else False\n",
            " |  \n",
            " |  length\n",
            " |      Unitless length of the geometry (float)\n",
            " |  \n",
            " |  minimum_rotated_rectangle\n",
            " |      Returns the general minimum bounding rectangle of\n",
            " |      the geometry. Can possibly be rotated. If the convex hull\n",
            " |      of the object is a degenerate (line or point) this same degenerate\n",
            " |      is returned.\n",
            " |  \n",
            " |  type\n",
            " |  \n",
            " |  wkb\n",
            " |      WKB representation of the geometry\n",
            " |  \n",
            " |  wkb_hex\n",
            " |      WKB hex representation of the geometry\n",
            " |  \n",
            " |  wkt\n",
            " |      WKT representation of the geometry\n",
            " |  \n",
            " |  ----------------------------------------------------------------------\n",
            " |  Data and other attributes inherited from shapely.geometry.base.BaseGeometry:\n",
            " |  \n",
            " |  __geom__ = 51733184\n",
            " |  \n",
            " |  __hash__ = None\n",
            " |  \n",
            " |  __p__ = None\n",
            " |  \n",
            " |  impl = <GEOSImpl object: GEOS C API version (1, 8, 0)>\n",
            "\n"
          ],
          "name": "stdout"
        }
      ]
    },
    {
      "cell_type": "markdown",
      "metadata": {
        "id": "yTcrRLjOKjL7",
        "colab_type": "text"
      },
      "source": [
        "# WRANGLING FUNCTION"
      ]
    },
    {
      "cell_type": "code",
      "metadata": {
        "id": "gCEmzvskAGUs",
        "colab_type": "code",
        "colab": {}
      },
      "source": [
        "# Important imports\n",
        "\n",
        "import plotly as py\n",
        "import sklearn\n",
        "import plotly.offline as offline\n",
        "import plotly.graph_objs as go\n",
        "import geopandas as gpd\n",
        "import datetime\n",
        "import re\n",
        "import pandas as pd\n",
        "import numpy as np\n",
        "import matplotlib.pyplot as plt\n",
        "from timezonefinder import TimezoneFinder\n",
        "from datetime import datetime, timedelta\n",
        "from pytz import timezone\n",
        "import pytz"
      ],
      "execution_count": 0,
      "outputs": []
    },
    {
      "cell_type": "code",
      "metadata": {
        "id": "iTR-HBGMKqRC",
        "colab_type": "code",
        "colab": {}
      },
      "source": [
        "thirty = gpd.read_file('https://earthquake.usgs.gov/earthquakes/feed/v1.0/summary/all_month.geojson')"
      ],
      "execution_count": 0,
      "outputs": []
    },
    {
      "cell_type": "code",
      "metadata": {
        "id": "DFl-Mk9wKiSd",
        "colab_type": "code",
        "colab": {}
      },
      "source": [
        "def wrangle(df):\n",
        "    \"\"\" Wrangles the data \"\"\" \n",
        "\n",
        "    geo = df.copy()\n",
        "\n",
        "    # Parse the city and country/state\n",
        "    geo['dist_from_city'] = geo['place'].str.split('of ', expand=True)[0]\n",
        "    geo['city'] = geo['place'].str.split('of ', expand=True)[1]\n",
        "    geo['city'] = geo['city'].str.split(', ', expand=True)[0]\n",
        "    geo['country_state'] = geo['place'].str.split(', ', expand=True)[1]\n",
        "\n",
        "    # Accounting for values without distances or cities in raw data\n",
        "    geo['city'].fillna(geo['place'], inplace=True)\n",
        "    geo['country_state'].fillna(geo['place'], inplace=True)\n",
        "\n",
        "    # Getting value for any missing timezone ('tz') entries\n",
        "    tf = TimezoneFinder()\n",
        "    lat, lng = geo.loc[geo['tz'].isna(), 'lat'].item(), geo.loc[geo['tz'].isna(), 'long'].item()\n",
        "    tf.timezone_at(lng=lng, lat=lat)\n",
        "    \n",
        "    # Parse the latitude, longitude, and the depth for each seismic event\n",
        "    geo['long'] = [geo['geometry'][i].x for i in range(len(geo['geometry']))]\n",
        "    geo['lat'] = [geo['geometry'][i].y for i in range(len(geo['geometry']))]\n",
        "    geo['longlat'] = list(zip(geo['long'], geo['lat']))\n",
        "    geo['depth'] = [geo['geometry'][i].z for i in range(len(geo['geometry']))]\n",
        "\n",
        "    # Convert time columns to datetime format\n",
        "    geo['time_dt'] = [datetime.datetime.fromtimestamp(\n",
        "        i / 1000) for i in geo['time']]\n",
        "    geo['updated_dt'] = [datetime.datetime.fromtimestamp(\n",
        "        i / 1000) for i in geo['updated']]\n",
        "\n",
        "    # Return wrangled dataframe \n",
        "    return geo"
      ],
      "execution_count": 0,
      "outputs": []
    },
    {
      "cell_type": "code",
      "metadata": {
        "id": "HSAa2KAcOgaK",
        "colab_type": "code",
        "colab": {}
      },
      "source": [
        "thirty = wrangle(thirty)"
      ],
      "execution_count": 0,
      "outputs": []
    },
    {
      "cell_type": "code",
      "metadata": {
        "id": "oeDug0DkNkSN",
        "colab_type": "code",
        "colab": {}
      },
      "source": [
        "thirty.isna().sum()"
      ],
      "execution_count": 0,
      "outputs": []
    },
    {
      "cell_type": "code",
      "metadata": {
        "id": "stlSyJgA3Y5p",
        "colab_type": "code",
        "outputId": "ad5c8e15-de7b-4464-b289-dc8a9755477a",
        "colab": {
          "base_uri": "https://localhost:8080/",
          "height": 147
        }
      },
      "source": [
        "thirty[thirty['tz'].isna()]"
      ],
      "execution_count": 0,
      "outputs": [
        {
          "output_type": "execute_result",
          "data": {
            "text/html": [
              "<div>\n",
              "<style scoped>\n",
              "    .dataframe tbody tr th:only-of-type {\n",
              "        vertical-align: middle;\n",
              "    }\n",
              "\n",
              "    .dataframe tbody tr th {\n",
              "        vertical-align: top;\n",
              "    }\n",
              "\n",
              "    .dataframe thead th {\n",
              "        text-align: right;\n",
              "    }\n",
              "</style>\n",
              "<table border=\"1\" class=\"dataframe\">\n",
              "  <thead>\n",
              "    <tr style=\"text-align: right;\">\n",
              "      <th></th>\n",
              "      <th>id</th>\n",
              "      <th>mag</th>\n",
              "      <th>place</th>\n",
              "      <th>time</th>\n",
              "      <th>updated</th>\n",
              "      <th>tz</th>\n",
              "      <th>url</th>\n",
              "      <th>detail</th>\n",
              "      <th>felt</th>\n",
              "      <th>cdi</th>\n",
              "      <th>mmi</th>\n",
              "      <th>alert</th>\n",
              "      <th>status</th>\n",
              "      <th>tsunami</th>\n",
              "      <th>sig</th>\n",
              "      <th>net</th>\n",
              "      <th>code</th>\n",
              "      <th>ids</th>\n",
              "      <th>sources</th>\n",
              "      <th>types</th>\n",
              "      <th>nst</th>\n",
              "      <th>dmin</th>\n",
              "      <th>rms</th>\n",
              "      <th>gap</th>\n",
              "      <th>magType</th>\n",
              "      <th>type</th>\n",
              "      <th>title</th>\n",
              "      <th>geometry</th>\n",
              "      <th>dist_from_city</th>\n",
              "      <th>city</th>\n",
              "      <th>country_state</th>\n",
              "      <th>long</th>\n",
              "      <th>lat</th>\n",
              "      <th>longlat</th>\n",
              "      <th>depth</th>\n",
              "      <th>time_dt</th>\n",
              "      <th>updated_dt</th>\n",
              "    </tr>\n",
              "  </thead>\n",
              "  <tbody>\n",
              "    <tr>\n",
              "      <th>9153</th>\n",
              "      <td>us60009anw</td>\n",
              "      <td>4.6</td>\n",
              "      <td>Scotia Sea</td>\n",
              "      <td>1587000822693</td>\n",
              "      <td>1587938107040</td>\n",
              "      <td>NaN</td>\n",
              "      <td>https://earthquake.usgs.gov/earthquakes/eventp...</td>\n",
              "      <td>https://earthquake.usgs.gov/earthquakes/feed/v...</td>\n",
              "      <td>NaN</td>\n",
              "      <td>NaN</td>\n",
              "      <td>NaN</td>\n",
              "      <td>None</td>\n",
              "      <td>reviewed</td>\n",
              "      <td>0</td>\n",
              "      <td>326</td>\n",
              "      <td>us</td>\n",
              "      <td>60009anw</td>\n",
              "      <td>,us60009anw,</td>\n",
              "      <td>,us,</td>\n",
              "      <td>,origin,phase-data,</td>\n",
              "      <td>NaN</td>\n",
              "      <td>5.502</td>\n",
              "      <td>0.64</td>\n",
              "      <td>80.0</td>\n",
              "      <td>mb</td>\n",
              "      <td>earthquake</td>\n",
              "      <td>M 4.6 - Scotia Sea</td>\n",
              "      <td>POINT Z (-47.48300 -60.25020 10.00000)</td>\n",
              "      <td>Scotia Sea</td>\n",
              "      <td>Scotia Sea</td>\n",
              "      <td>Scotia Sea</td>\n",
              "      <td>-47.483</td>\n",
              "      <td>-60.2502</td>\n",
              "      <td>(-47.483, -60.2502)</td>\n",
              "      <td>10.0</td>\n",
              "      <td>2020-04-16 01:33:42.693</td>\n",
              "      <td>2020-04-26 21:55:07.040</td>\n",
              "    </tr>\n",
              "  </tbody>\n",
              "</table>\n",
              "</div>"
            ],
            "text/plain": [
              "              id  mag  ...                 time_dt              updated_dt\n",
              "9153  us60009anw  4.6  ... 2020-04-16 01:33:42.693 2020-04-26 21:55:07.040\n",
              "\n",
              "[1 rows x 37 columns]"
            ]
          },
          "metadata": {
            "tags": []
          },
          "execution_count": 28
        }
      ]
    },
    {
      "cell_type": "markdown",
      "metadata": {},
      "source": [
        "### Figuring out timezone issues"
      ]
    },
    {
      "cell_type": "code",
      "metadata": {
        "id": "cQJ6Fphq7w1J",
        "colab_type": "code",
        "colab": {}
      },
      "source": [
        "thirty['tz']"
      ],
      "execution_count": 0,
      "outputs": []
    },
    {
      "cell_type": "code",
      "metadata": {
        "id": "xw_OjQo_8XGh",
        "colab_type": "code",
        "outputId": "fa9260a9-f7dd-4400-c8bc-7fea6b65e7cc",
        "colab": {
          "base_uri": "https://localhost:8080/",
          "height": 34
        }
      },
      "source": [
        "tf = TimezoneFinder()\n",
        "latitude, longitude = thirty.loc[thirty['tz'].isna(), 'lat'].item(), thirty.loc[thirty['tz'].isna(), 'long'].item()\n",
        "tf.timezone_at(lng=longitude, lat=latitude)"
      ],
      "execution_count": 0,
      "outputs": [
        {
          "output_type": "execute_result",
          "data": {
            "text/plain": [
              "'America/Argentina/Ushuaia'"
            ]
          },
          "metadata": {
            "tags": []
          },
          "execution_count": 49
        }
      ]
    },
    {
      "cell_type": "code",
      "metadata": {
        "id": "U-K1YI4381Qk",
        "colab_type": "code",
        "outputId": "279bf36d-aa01-450e-bbfc-e7b15dfff3e9",
        "colab": {
          "base_uri": "https://localhost:8080/",
          "height": 34
        }
      },
      "source": [
        "latitude, longitude = thirty.loc[thirty['tz'].isna(), 'lat'].item(), thirty.loc[thirty['tz'].isna(), 'long'].item()\n",
        "print(latitude, longitude)"
      ],
      "execution_count": 0,
      "outputs": [
        {
          "output_type": "stream",
          "text": [
            "-60.2502 -47.483\n"
          ],
          "name": "stdout"
        }
      ]
    },
    {
      "cell_type": "code",
      "metadata": {
        "id": "MLup-e_k2hCh",
        "colab_type": "code",
        "outputId": "c9f3ddb2-e5e0-4e81-c5bc-42ac0944eb31",
        "colab": {
          "base_uri": "https://localhost:8080/",
          "height": 34
        }
      },
      "source": [
        "thirty.loc[thirty['tz'].isna(), 'lat'].item()"
      ],
      "execution_count": 0,
      "outputs": [
        {
          "output_type": "execute_result",
          "data": {
            "text/plain": [
              "-60.2502"
            ]
          },
          "metadata": {
            "tags": []
          },
          "execution_count": 47
        }
      ]
    },
    {
      "cell_type": "code",
      "metadata": {
        "id": "l3hajoaINGtv",
        "colab_type": "code",
        "outputId": "faef9f3e-c781-4a63-eec7-c8fecf567548",
        "colab": {
          "base_uri": "https://localhost:8080/",
          "height": 34
        }
      },
      "source": [
        "thirty.loc[thirty['tz'].isna(), 'time_dt'].item()"
      ],
      "execution_count": 0,
      "outputs": [
        {
          "output_type": "execute_result",
          "data": {
            "text/plain": [
              "Timestamp('2020-04-16 01:33:42.693000')"
            ]
          },
          "metadata": {
            "tags": []
          },
          "execution_count": 56
        }
      ]
    },
    {
      "cell_type": "code",
      "metadata": {
        "id": "3i_d7vTcO71-",
        "colab_type": "code",
        "outputId": "d9998b3d-7e5b-4245-f315-62e4ad42f3e8",
        "colab": {
          "base_uri": "https://localhost:8080/",
          "height": 256
        }
      },
      "source": [
        "tf = TimezoneFinder()\n",
        "latitude, longitude = thirty.loc[thirty['tz'].isna(), 'lat'].item(), thirty.loc[thirty['tz'].isna(), 'long'].item()\n",
        "timezone_val = tf.timezone_at(lng=longitude, lat=latitude)\n",
        "print(timezone_val)\n",
        "\n"
      ],
      "execution_count": 0,
      "outputs": [
        {
          "output_type": "stream",
          "text": [
            "America/Argentina/Ushuaia\n"
          ],
          "name": "stdout"
        },
        {
          "output_type": "error",
          "ename": "TypeError",
          "evalue": "ignored",
          "traceback": [
            "\u001b[0;31m---------------------------------------------------------------------------\u001b[0m",
            "\u001b[0;31mTypeError\u001b[0m                                 Traceback (most recent call last)",
            "\u001b[0;32m<ipython-input-79-b33283bbdc2f>\u001b[0m in \u001b[0;36m<module>\u001b[0;34m()\u001b[0m\n\u001b[1;32m      4\u001b[0m \u001b[0mprint\u001b[0m\u001b[0;34m(\u001b[0m\u001b[0mtimezone_val\u001b[0m\u001b[0;34m)\u001b[0m\u001b[0;34m\u001b[0m\u001b[0;34m\u001b[0m\u001b[0m\n\u001b[1;32m      5\u001b[0m \u001b[0;34m\u001b[0m\u001b[0m\n\u001b[0;32m----> 6\u001b[0;31m \u001b[0mtz\u001b[0m \u001b[0;34m=\u001b[0m \u001b[0mtimezone\u001b[0m\u001b[0;34m(\u001b[0m\u001b[0;34m'America/Argentina/Ushuaia'\u001b[0m\u001b[0;34m)\u001b[0m\u001b[0;34m\u001b[0m\u001b[0;34m\u001b[0m\u001b[0m\n\u001b[0m\u001b[1;32m      7\u001b[0m \u001b[0mvalue\u001b[0m \u001b[0;34m=\u001b[0m \u001b[0mtz\u001b[0m\u001b[0;34m.\u001b[0m\u001b[0mutcoffset\u001b[0m\u001b[0;34m(\u001b[0m\u001b[0mthirty\u001b[0m\u001b[0;34m.\u001b[0m\u001b[0mloc\u001b[0m\u001b[0;34m[\u001b[0m\u001b[0mthirty\u001b[0m\u001b[0;34m[\u001b[0m\u001b[0;34m'tz'\u001b[0m\u001b[0;34m]\u001b[0m\u001b[0;34m.\u001b[0m\u001b[0misna\u001b[0m\u001b[0;34m(\u001b[0m\u001b[0;34m)\u001b[0m\u001b[0;34m,\u001b[0m \u001b[0;34m'time_dt'\u001b[0m\u001b[0;34m]\u001b[0m\u001b[0;34m.\u001b[0m\u001b[0mitem\u001b[0m\u001b[0;34m(\u001b[0m\u001b[0;34m)\u001b[0m\u001b[0;34m,\u001b[0m \u001b[0mis_dst\u001b[0m\u001b[0;34m=\u001b[0m\u001b[0;32mTrue\u001b[0m\u001b[0;34m)\u001b[0m\u001b[0;34m\u001b[0m\u001b[0;34m\u001b[0m\u001b[0m\n\u001b[1;32m      8\u001b[0m \u001b[0mvalue\u001b[0m\u001b[0;34m.\u001b[0m\u001b[0mdays\u001b[0m\u001b[0;34m,\u001b[0m \u001b[0mvalue\u001b[0m\u001b[0;34m.\u001b[0m\u001b[0mseconds\u001b[0m\u001b[0;34m\u001b[0m\u001b[0;34m\u001b[0m\u001b[0m\n",
            "\u001b[0;31mTypeError\u001b[0m: 'str' object is not callable"
          ]
        }
      ]
    },
    {
      "cell_type": "code",
      "metadata": {
        "id": "JLCZ3aBOMzTW",
        "colab_type": "code",
        "outputId": "bbcd32a7-bcb2-44df-9803-529578f3a9a6",
        "colab": {
          "base_uri": "https://localhost:8080/",
          "height": 203
        }
      },
      "source": [
        "tz = timezone('America/Argentina/Ushuaia')\n",
        "value = tz.utcoffset(thirty.loc[thirty['tz'].isna(), 'time_dt'].item(), is_dst=True)\n",
        "value.days, value.seconds"
      ],
      "execution_count": 0,
      "outputs": [
        {
          "output_type": "error",
          "ename": "TypeError",
          "evalue": "ignored",
          "traceback": [
            "\u001b[0;31m---------------------------------------------------------------------------\u001b[0m",
            "\u001b[0;31mTypeError\u001b[0m                                 Traceback (most recent call last)",
            "\u001b[0;32m<ipython-input-87-f6bc6efa6f63>\u001b[0m in \u001b[0;36m<module>\u001b[0;34m()\u001b[0m\n\u001b[0;32m----> 1\u001b[0;31m \u001b[0mtimezone\u001b[0m\u001b[0;34m(\u001b[0m\u001b[0;34m'America/Argentina/Ushuaia'\u001b[0m\u001b[0;34m)\u001b[0m\u001b[0;34m\u001b[0m\u001b[0;34m\u001b[0m\u001b[0m\n\u001b[0m\u001b[1;32m      2\u001b[0m \u001b[0;31m# value = tz.utcoffset(thirty.loc[thirty['tz'].isna(), 'time_dt'].item(), is_dst=True)\u001b[0m\u001b[0;34m\u001b[0m\u001b[0;34m\u001b[0m\u001b[0;34m\u001b[0m\u001b[0m\n\u001b[1;32m      3\u001b[0m \u001b[0;31m# value.days, value.seconds\u001b[0m\u001b[0;34m\u001b[0m\u001b[0;34m\u001b[0m\u001b[0;34m\u001b[0m\u001b[0m\n",
            "\u001b[0;31mTypeError\u001b[0m: 'str' object is not callable"
          ]
        }
      ]
    },
    {
      "cell_type": "code",
      "metadata": {
        "id": "fEwqAxCtM-KR",
        "colab_type": "code",
        "outputId": "3fcf6042-760a-4cfb-8f5a-b7df6fdb2303",
        "colab": {
          "base_uri": "https://localhost:8080/",
          "height": 34
        }
      },
      "source": [
        "tz.dst(thirty.loc[thirty['tz'].isna(), 'time_dt'].item(), is_dst=True)"
      ],
      "execution_count": 0,
      "outputs": [
        {
          "output_type": "execute_result",
          "data": {
            "text/plain": [
              "datetime.timedelta(0)"
            ]
          },
          "metadata": {
            "tags": []
          },
          "execution_count": 61
        }
      ]
    },
    {
      "cell_type": "markdown",
      "metadata": {
        "id": "Je98gDeuNgZt",
        "colab_type": "text"
      },
      "source": [
        "# Geocoder function"
      ]
    },
    {
      "cell_type": "code",
      "metadata": {
        "id": "F3Xaeb_dNlTD",
        "colab_type": "code",
        "colab": {}
      },
      "source": [
        "pip install geocoder"
      ],
      "execution_count": 0,
      "outputs": []
    },
    {
      "cell_type": "code",
      "metadata": {
        "id": "YPkFmYJjP3kC",
        "colab_type": "code",
        "colab": {}
      },
      "source": [
        "pip install geopy"
      ],
      "execution_count": 0,
      "outputs": []
    },
    {
      "cell_type": "code",
      "metadata": {
        "id": "iKavJ5-qNkcT",
        "colab_type": "code",
        "colab": {}
      },
      "source": [
        "from geopy.geocoders import Nominatim\n",
        "\n",
        "locator = Nominatim(user_agent='myGeocoder')\n",
        "location = locator.geocode('South Salt Lake, United States')\n",
        "\n",
        "print((location.latitude, location.longitude))\n",
        "print(location.raw)"
      ],
      "execution_count": 0,
      "outputs": []
    },
    {
      "cell_type": "code",
      "metadata": {
        "id": "BDObcBE5QNDh",
        "colab_type": "code",
        "colab": {}
      },
      "source": [
        ""
      ],
      "execution_count": 0,
      "outputs": []
    },
    {
      "cell_type": "markdown",
      "metadata": {
        "id": "lRwwlEmWgOuW",
        "colab_type": "text"
      },
      "source": [
        "# Data Exploration"
      ]
    },
    {
      "cell_type": "code",
      "metadata": {
        "id": "CmjBicVF_oud",
        "colab_type": "code",
        "colab": {}
      },
      "source": [
        "df = wrangle(thirty)"
      ],
      "execution_count": 0,
      "outputs": []
    },
    {
      "cell_type": "code",
      "metadata": {
        "id": "9hqPuO4U3PNR",
        "colab_type": "code",
        "colab": {}
      },
      "source": [
        "nulls = df.isnull().sum()\n",
        "nulls[nulls > 0]"
      ],
      "execution_count": 0,
      "outputs": []
    },
    {
      "cell_type": "code",
      "metadata": {
        "id": "U4DahPtUg7kn",
        "colab_type": "code",
        "colab": {}
      },
      "source": [
        "len(df[df['nst'].isna()])"
      ],
      "execution_count": 0,
      "outputs": []
    },
    {
      "cell_type": "code",
      "metadata": {
        "id": "p3tRsqWO6Y9T",
        "colab_type": "code",
        "colab": {}
      },
      "source": [
        "df['nst'].dtypes"
      ],
      "execution_count": 0,
      "outputs": []
    },
    {
      "cell_type": "code",
      "metadata": {
        "id": "tABChOWlARYD",
        "colab_type": "code",
        "colab": {}
      },
      "source": [
        "df.columns"
      ],
      "execution_count": 0,
      "outputs": []
    },
    {
      "cell_type": "code",
      "metadata": {
        "id": "moaPeqLZ-a3-",
        "colab_type": "code",
        "colab": {}
      },
      "source": [
        "df.loc[df['nst'].isna(), 'nst'] = df.groupby('country_state')['nst'].transform('mean')"
      ],
      "execution_count": 0,
      "outputs": []
    },
    {
      "cell_type": "code",
      "metadata": {
        "id": "536EDT1XNTK9",
        "colab_type": "code",
        "colab": {}
      },
      "source": [
        "df.head()"
      ],
      "execution_count": 0,
      "outputs": []
    },
    {
      "cell_type": "code",
      "metadata": {
        "id": "LfZmAot6Aqjq",
        "colab_type": "code",
        "colab": {}
      },
      "source": [
        "df.isna().sum()"
      ],
      "execution_count": 0,
      "outputs": []
    },
    {
      "cell_type": "code",
      "metadata": {
        "id": "q212TlifEUni",
        "colab_type": "code",
        "colab": {}
      },
      "source": [
        "df.loc[df['country_state'].isna()]"
      ],
      "execution_count": 0,
      "outputs": []
    },
    {
      "cell_type": "markdown",
      "metadata": {
        "id": "o9Aytq1b-YQ2",
        "colab_type": "text"
      },
      "source": [
        "### FancyImpute"
      ]
    },
    {
      "cell_type": "code",
      "metadata": {
        "id": "CCQhybW_no3E",
        "colab_type": "code",
        "colab": {}
      },
      "source": [
        "from fancyimpute import KNN, NuclearNormMinimization, SoftImpute, BiScaler"
      ],
      "execution_count": 0,
      "outputs": []
    },
    {
      "cell_type": "code",
      "metadata": {
        "id": "4WVtlMo0npeC",
        "colab_type": "code",
        "colab": {}
      },
      "source": [
        "# df is my data frame with the missings. I keep only floats\n",
        "thirty_numeric = np.array(thirty['nst']).reshape(-1, 1)\n",
        "\n",
        "# I now run fancyimpute KNN, \n",
        "# it returns a np.array which I store as a pandas dataframe\n",
        "thirty_filled = pd.DataFrame(KNN(3).fit_transform(thirty_numeric))"
      ],
      "execution_count": 0,
      "outputs": []
    },
    {
      "cell_type": "code",
      "metadata": {
        "id": "WS7R323ozhno",
        "colab_type": "code",
        "colab": {}
      },
      "source": [
        ""
      ],
      "execution_count": 0,
      "outputs": []
    },
    {
      "cell_type": "markdown",
      "metadata": {
        "id": "P2m3cCg6hCm_",
        "colab_type": "text"
      },
      "source": [
        "# Leaflet Map"
      ]
    },
    {
      "cell_type": "code",
      "metadata": {
        "id": "8xHaOfTLFx_n",
        "colab_type": "code",
        "colab": {}
      },
      "source": [
        "len(thirty)"
      ],
      "execution_count": 0,
      "outputs": []
    },
    {
      "cell_type": "code",
      "metadata": {
        "id": "QeWufIcVhEH3",
        "colab_type": "code",
        "colab": {}
      },
      "source": [
        "import folium"
      ],
      "execution_count": 0,
      "outputs": []
    },
    {
      "cell_type": "code",
      "metadata": {
        "id": "gvrsgxzPhFWK",
        "colab_type": "code",
        "colab": {}
      },
      "source": [
        "m = folium.Map(\n",
        "    location=[40.387878 , -111.849167],\n",
        "    tiles='Stamen Toner',\n",
        "    zoom_start=13\n",
        "    )\n",
        "\n",
        "# tooltip = 'Click me!'\n",
        "\n",
        "# for row in thirty['longlat']:\n",
        "#         folium.Marker([row[1], row[0]], tooltip=tooltip).add_to(m)\n",
        "\n",
        "m"
      ],
      "execution_count": 0,
      "outputs": []
    },
    {
      "cell_type": "code",
      "metadata": {
        "id": "x1jYVCf7EvGI",
        "colab_type": "code",
        "colab": {}
      },
      "source": [
        "thirty['longlat']"
      ],
      "execution_count": 0,
      "outputs": []
    }
  ],
  "metadata": {
    "colab": {
      "name": "GeoJSON and GeoPandas.ipynb",
      "provenance": [],
      "collapsed_sections": [
        "Je98gDeuNgZt",
        "lRwwlEmWgOuW",
        "P2m3cCg6hCm_"
      ],
      "toc_visible": true
    },
    "kernelspec": {
      "name": "python3",
      "display_name": "Python 3"
    }
  },
  "nbformat": 4,
  "nbformat_minor": 0
}