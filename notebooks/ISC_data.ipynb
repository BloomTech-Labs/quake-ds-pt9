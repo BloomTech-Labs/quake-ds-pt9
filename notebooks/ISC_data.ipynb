{
 "cells": [
  {
   "cell_type": "code",
   "execution_count": 1,
   "metadata": {},
   "outputs": [],
   "source": [
    "import pandas as pd\n",
    "import numpy as np"
   ]
  },
  {
   "cell_type": "markdown",
   "metadata": {},
   "source": [
    "The ISC-GEM Global Instrumental Earthquake Catalogue contains:\n",
    "- earthquake origin date and time\n",
    "- epicentre (lat,lon)\n",
    "- error ellipse parameters (smajax, sminax, strike), epicentre quality,\n",
    "(q:A(highest)/B/C)\n",
    "- depth, depth uncertainty (unc), depth quality (q:A(highest)/B/C)\n",
    "- Mw, Mw uncertainty (unc), quality (q:A(highest)/B/C), source(s:p-proxy,\n",
    "d-direct computation)\n",
    "- where available: scalar moment (mo), factor (fac) , mo author (mo_auth)\n",
    "and six moment tensor components (mpp, mpr, mrr, mrt, mtp, mtt)."
   ]
  },
  {
   "cell_type": "code",
   "execution_count": 7,
   "metadata": {},
   "outputs": [
    {
     "output_type": "execute_result",
     "data": {
      "text/plain": "                       time     lat      lon    smajax    sminax   strike  \\\n0   1904-04-04 10:02:34.56   41.802   23.108      8.6       6.6    164.2    \n1   1904-04-04 10:26:00.88   41.758   23.249      8.3       6.9     15.2    \n2   1904-06-25 14:45:39.14   51.424  161.638     33.6      18.7    116.2    \n3   1904-06-25 21:00:38.72   52.763  160.277     28.6      14.6     43.1    \n4   1904-12-20 05:44:20.44    8.962  -84.042     26.3      13.2     74.1    \n\n  epicenter_q  depth  depth_unc depth_q  ...      mtp      mtt      str1  \\\n0          B    15.0        4.8      C   ...                               \n1          B    15.0        4.8      C   ...                               \n2          C    15.0       25.0      C   ...                               \n3          C    30.0       10.3      C   ...                               \n4          C    10.0       14.0      C   ...                               \n\n       dip1     rake1      str2      dip2     rake2      type    eventid  \n0                                                              610326271  \n1                                                               16957813  \n2                                                               16957820  \n3                                                               16957819  \n4                                                               16957832  \n\n[5 rows x 31 columns]",
      "text/html": "<div>\n<style scoped>\n    .dataframe tbody tr th:only-of-type {\n        vertical-align: middle;\n    }\n\n    .dataframe tbody tr th {\n        vertical-align: top;\n    }\n\n    .dataframe thead th {\n        text-align: right;\n    }\n</style>\n<table border=\"1\" class=\"dataframe\">\n  <thead>\n    <tr style=\"text-align: right;\">\n      <th></th>\n      <th>time</th>\n      <th>lat</th>\n      <th>lon</th>\n      <th>smajax</th>\n      <th>sminax</th>\n      <th>strike</th>\n      <th>epicenter_q</th>\n      <th>depth</th>\n      <th>depth_unc</th>\n      <th>depth_q</th>\n      <th>...</th>\n      <th>mtp</th>\n      <th>mtt</th>\n      <th>str1</th>\n      <th>dip1</th>\n      <th>rake1</th>\n      <th>str2</th>\n      <th>dip2</th>\n      <th>rake2</th>\n      <th>type</th>\n      <th>eventid</th>\n    </tr>\n  </thead>\n  <tbody>\n    <tr>\n      <th>0</th>\n      <td>1904-04-04 10:02:34.56</td>\n      <td>41.802</td>\n      <td>23.108</td>\n      <td>8.6</td>\n      <td>6.6</td>\n      <td>164.2</td>\n      <td>B</td>\n      <td>15.0</td>\n      <td>4.8</td>\n      <td>C</td>\n      <td>...</td>\n      <td></td>\n      <td></td>\n      <td></td>\n      <td></td>\n      <td></td>\n      <td></td>\n      <td></td>\n      <td></td>\n      <td></td>\n      <td>610326271</td>\n    </tr>\n    <tr>\n      <th>1</th>\n      <td>1904-04-04 10:26:00.88</td>\n      <td>41.758</td>\n      <td>23.249</td>\n      <td>8.3</td>\n      <td>6.9</td>\n      <td>15.2</td>\n      <td>B</td>\n      <td>15.0</td>\n      <td>4.8</td>\n      <td>C</td>\n      <td>...</td>\n      <td></td>\n      <td></td>\n      <td></td>\n      <td></td>\n      <td></td>\n      <td></td>\n      <td></td>\n      <td></td>\n      <td></td>\n      <td>16957813</td>\n    </tr>\n    <tr>\n      <th>2</th>\n      <td>1904-06-25 14:45:39.14</td>\n      <td>51.424</td>\n      <td>161.638</td>\n      <td>33.6</td>\n      <td>18.7</td>\n      <td>116.2</td>\n      <td>C</td>\n      <td>15.0</td>\n      <td>25.0</td>\n      <td>C</td>\n      <td>...</td>\n      <td></td>\n      <td></td>\n      <td></td>\n      <td></td>\n      <td></td>\n      <td></td>\n      <td></td>\n      <td></td>\n      <td></td>\n      <td>16957820</td>\n    </tr>\n    <tr>\n      <th>3</th>\n      <td>1904-06-25 21:00:38.72</td>\n      <td>52.763</td>\n      <td>160.277</td>\n      <td>28.6</td>\n      <td>14.6</td>\n      <td>43.1</td>\n      <td>C</td>\n      <td>30.0</td>\n      <td>10.3</td>\n      <td>C</td>\n      <td>...</td>\n      <td></td>\n      <td></td>\n      <td></td>\n      <td></td>\n      <td></td>\n      <td></td>\n      <td></td>\n      <td></td>\n      <td></td>\n      <td>16957819</td>\n    </tr>\n    <tr>\n      <th>4</th>\n      <td>1904-12-20 05:44:20.44</td>\n      <td>8.962</td>\n      <td>-84.042</td>\n      <td>26.3</td>\n      <td>13.2</td>\n      <td>74.1</td>\n      <td>C</td>\n      <td>10.0</td>\n      <td>14.0</td>\n      <td>C</td>\n      <td>...</td>\n      <td></td>\n      <td></td>\n      <td></td>\n      <td></td>\n      <td></td>\n      <td></td>\n      <td></td>\n      <td></td>\n      <td></td>\n      <td>16957832</td>\n    </tr>\n  </tbody>\n</table>\n<p>5 rows × 31 columns</p>\n</div>"
     },
     "metadata": {},
     "execution_count": 7
    }
   ],
   "source": [
    "# The First 92 rows are data and copyright info: creative commons, open use.\n",
    "df = pd.read_csv(\n",
    "    'https://raw.githubusercontent.com/Lambda-School-Labs/quake-ds-pt9/cent_data_and_functions/data/isc-gem-cat.csv',\n",
    "    skiprows=92)\n",
    "\n",
    "# Renaming columns for clarity and to coincide with the usgs data more easily. \n",
    "df = df.rename(columns={\n",
    "    '#         date          ':'time', \n",
    "    '    lat   ':'lat', \n",
    "    '    lon   ':'lon', \n",
    "    ' smajax ':'smajax', \n",
    "    ' sminax ':'sminax', \n",
    "    ' strike':'strike', \n",
    "    ' q ':'epicenter_q', \n",
    "    '  depth ':'depth', \n",
    "    '   unc ':'depth_unc', \n",
    "    ' q .1':'depth_q', \n",
    "    '  mw  ':'Mw', \n",
    "    '  unc ':'Mw_unc', \n",
    "    ' q .2':'Mw_q', \n",
    "    ' s ':'source', \n",
    "    '   mo  ':'scalar_moment', \n",
    "    ' fac':'factor', \n",
    "    '  mo_auth ':'mo_auth', \n",
    "    '  mpp  ':'mpp', \n",
    "    '  mpr  ':'mpr', \n",
    "    '  mrr  ':'mrr', \n",
    "    '  mrt  ':'mrt', \n",
    "    '  mtp  ':'mtp', \n",
    "    '  mtt  ':'mtt', \n",
    "    '  str1  ':'str1', \n",
    "    '  dip1  ':'dip1', \n",
    "    ' rake1  ':'rake1', \n",
    "    '  str2  ':'str2',\n",
    "    '  dip2  ':'dip2', \n",
    "    ' rake2  ':'rake2',\n",
    "    '   type ':'type',\n",
    "    '    eventid':'eventid'\n",
    "    })\n",
    "\n",
    "df.head()"
   ]
  },
  {
   "cell_type": "code",
   "execution_count": null,
   "metadata": {},
   "outputs": [],
   "source": []
  }
 ],
 "metadata": {
  "language_info": {
   "codemirror_mode": {
    "name": "ipython",
    "version": 3
   },
   "file_extension": ".py",
   "mimetype": "text/x-python",
   "name": "python",
   "nbconvert_exporter": "python",
   "pygments_lexer": "ipython3",
   "version": "3.7.6-final"
  },
  "orig_nbformat": 2,
  "kernelspec": {
   "name": "python37664bitrobvirtualenvbf5f3d3987e648a5b2ec7e45e4b0fae0",
   "display_name": "Python 3.7.6 64-bit ('Rob': virtualenv)"
  }
 },
 "nbformat": 4,
 "nbformat_minor": 2
}