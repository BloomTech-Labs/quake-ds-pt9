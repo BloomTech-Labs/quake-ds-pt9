{
 "cells": [
  {
   "cell_type": "markdown",
   "metadata": {},
   "source": [
    "\n",
    "\n"
   ]
  },
  {
   "cell_type": "code",
   "execution_count": 43,
   "metadata": {},
   "outputs": [],
   "source": [
    "import requests\n"
   ]
  },
  {
   "cell_type": "code",
   "execution_count": 56,
   "metadata": {},
   "outputs": [
    {
     "output_type": "stream",
     "name": "stdout",
     "text": "========== Result #1 ==========\nTitle: Community Emergency Response Team | Ready.gov\nDescription: Jan 10, 2020 ... Teen CERT. For local CERT program managers and others who want to \nestablish and maintain CERT training for teens, there are several tools at ...\nURL: https://www.ready.gov/cert \n\n========== Result #2 ==========\nTitle: Local Emergency Management Planning Guidance | Mass.gov\nDescription: Each community in the Commonwealth is required to develop and maintain an all\n-hazards emergency operations plan/comprehensive emergency management ...\nURL: https://www.mass.gov/info-details/local-emergency-management-planning-guidance \n\n========== Result #3 ==========\nTitle: Georgia Emergency Management and Homeland Security Agency\nDescription: The Georgia Emergency Management and Homeland Security Agency \ncoordinates the state's preparedness, response and recovery efforts to disasters. \nAs part ...\nURL: https://gema.georgia.gov/ \n\n========== Result #4 ==========\nTitle: Emergency Management Agencies | FEMA.gov\nDescription: Oct 29, 2019 ... ... contact information for emergency management agencies and offices.\nAAlabama Emergency Management Agency5898 County Road 41P.\nURL: https://www.fema.gov/emergency-management-agencies \n\n========== Result #7 ==========\nTitle: Water & Sewer - Lehi City\nDescription: The Water Department administers four of the City's enterprise operations: storm \ndrains, culinary water, pressurized irrigation, and wastewater. The department ...\nURL: https://www.lehi-ut.gov/departments/water/ \n\n========== Result #8 ==========\nTitle: Local Emergency Management Coordinators\nDescription: The municipal coordinator helps the community to achieve proper levels of \npreparedness, response, recovery, and mitigation for various emergencies or \ndisasters ...\nURL: https://centrecountypa.gov/732/Local-Emergency-Management-Coordinators \n\n========== Result #9 ==========\nTitle: Emergency Management | Roanoke, VA\nDescription: Emergency Management maintains the city's Emergency Operations Center, is \nan active partner with the Roanoke Valley Local Emergency Planning Committee\n ...\nURL: https://www.roanokeva.gov/639/Emergency-Management \n\n"
    }
   ],
   "source": [
    "# the search query you want\n",
    "zipcode = \"84043\"\n",
    "\n",
    "query = f'local emergency management zipcode {zipcode}'\n",
    "\n",
    "# constructing the URL\n",
    "# doc: https://developers.google.com/custom-search/v1/using_rest\n",
    "url = f\"https://www.googleapis.com/customsearch/v1?key={API_KEY}&cx={SEARCH_ENGINE_ID}&q={query}\"\n",
    "\n",
    "# make the API request\n",
    "data = requests.get(url).json()\n",
    "\n",
    "# get the result items\n",
    "search_items = data.get(\"items\")\n",
    "# iterate over 10 results found\n",
    "for i, search_item in enumerate(search_items, start=1):\n",
    "    if \".gov\" in search_item.get(\"link\"):\n",
    "        # get the page title\n",
    "        title = search_item.get(\"title\")\n",
    "        # page snippet\n",
    "        snippet = search_item.get(\"snippet\")\n",
    "        # alternatively, you can get the HTML snippet (bolded keywords)\n",
    "        html_snippet = search_item.get(\"htmlSnippet\")\n",
    "        # extract the page url\n",
    "        link = search_item.get(\"link\")\n",
    "        # print the results\n",
    "        print(\"=\"*10, f\"Result #{i}\", \"=\"*10)\n",
    "        print(\"Title:\", title)\n",
    "        print(\"Description:\", snippet)\n",
    "        print(\"URL:\", link, \"\\n\")"
   ]
  },
  {
   "cell_type": "code",
   "execution_count": 42,
   "metadata": {},
   "outputs": [
    {
     "output_type": "error",
     "ename": "NameError",
     "evalue": "name 'flags' is not defined",
     "traceback": [
      "\u001b[1;31m---------------------------------------------------------------------------\u001b[0m",
      "\u001b[1;31mNameError\u001b[0m                                 Traceback (most recent call last)",
      "\u001b[1;32m<ipython-input-42-23a6afabf018>\u001b[0m in \u001b[0;36m<module>\u001b[1;34m\u001b[0m\n\u001b[0;32m      1\u001b[0m request = {\n\u001b[1;32m----> 2\u001b[1;33m       \u001b[1;34m'startDate'\u001b[0m\u001b[1;33m:\u001b[0m \u001b[0mflags\u001b[0m\u001b[1;33m.\u001b[0m\u001b[0mstart_date\u001b[0m\u001b[1;33m,\u001b[0m\u001b[1;33m\u001b[0m\u001b[1;33m\u001b[0m\u001b[0m\n\u001b[0m\u001b[0;32m      3\u001b[0m       \u001b[1;34m'endDate'\u001b[0m\u001b[1;33m:\u001b[0m \u001b[0mflags\u001b[0m\u001b[1;33m.\u001b[0m\u001b[0mend_date\u001b[0m\u001b[1;33m,\u001b[0m\u001b[1;33m\u001b[0m\u001b[1;33m\u001b[0m\u001b[0m\n\u001b[0;32m      4\u001b[0m       \u001b[1;34m'dimensions'\u001b[0m\u001b[1;33m:\u001b[0m \u001b[1;33m[\u001b[0m\u001b[1;34m'date'\u001b[0m\u001b[1;33m]\u001b[0m\u001b[1;33m\u001b[0m\u001b[1;33m\u001b[0m\u001b[0m\n\u001b[0;32m      5\u001b[0m   }\n",
      "\u001b[1;31mNameError\u001b[0m: name 'flags' is not defined"
     ]
    }
   ],
   "source": [
    "# custom date filtering\n",
    "request = {\n",
    "      'startDate': flags.start_date,\n",
    "      'endDate': flags.end_date,\n",
    "      'dimensions': ['date']\n",
    "  }\n",
    "response = execute_request(service, flags.property_uri, request)\n",
    "print_table(response['rows'], 'Available dates')"
   ]
  }
 ],
 "metadata": {
  "language_info": {
   "codemirror_mode": {
    "name": "ipython",
    "version": 3
   },
   "file_extension": ".py",
   "mimetype": "text/x-python",
   "name": "python",
   "nbconvert_exporter": "python",
   "pygments_lexer": "ipython3",
   "version": "3.7.6-final"
  },
  "orig_nbformat": 2,
  "kernelspec": {
   "name": "python37664bitrobvirtualenvbf5f3d3987e648a5b2ec7e45e4b0fae0",
   "display_name": "Python 3.7.6 64-bit ('Rob': virtualenv)"
  }
 },
 "nbformat": 4,
 "nbformat_minor": 2
}